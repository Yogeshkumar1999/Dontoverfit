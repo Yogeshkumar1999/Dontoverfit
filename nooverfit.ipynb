{
  "nbformat": 4,
  "nbformat_minor": 0,
  "metadata": {
    "colab": {
      "name": "nooverfit.ipynb",
      "version": "0.3.2",
      "provenance": [],
      "collapsed_sections": []
    },
    "kernelspec": {
      "name": "python3",
      "display_name": "Python 3"
    }
  },
  "cells": [
    {
      "metadata": {
        "id": "erTlRjCKS3uU",
        "colab_type": "code",
        "colab": {}
      },
      "cell_type": "code",
      "source": [
        "import pandas as pd\n",
        "import numpy as np"
      ],
      "execution_count": 0,
      "outputs": []
    },
    {
      "metadata": {
        "id": "JDIUHOTvVSmT",
        "colab_type": "code",
        "colab": {}
      },
      "cell_type": "code",
      "source": [
        "df = pd.read_csv('train.csv')"
      ],
      "execution_count": 0,
      "outputs": []
    },
    {
      "metadata": {
        "id": "QkVFCMbAVakt",
        "colab_type": "code",
        "outputId": "393f55cb-1b5d-45cb-8279-5e45a8dab6d2",
        "colab": {
          "base_uri": "https://localhost:8080/",
          "height": 374
        }
      },
      "cell_type": "code",
      "source": [
        "df.head(10)"
      ],
      "execution_count": 3,
      "outputs": [
        {
          "output_type": "execute_result",
          "data": {
            "text/html": [
              "<div>\n",
              "<style scoped>\n",
              "    .dataframe tbody tr th:only-of-type {\n",
              "        vertical-align: middle;\n",
              "    }\n",
              "\n",
              "    .dataframe tbody tr th {\n",
              "        vertical-align: top;\n",
              "    }\n",
              "\n",
              "    .dataframe thead th {\n",
              "        text-align: right;\n",
              "    }\n",
              "</style>\n",
              "<table border=\"1\" class=\"dataframe\">\n",
              "  <thead>\n",
              "    <tr style=\"text-align: right;\">\n",
              "      <th></th>\n",
              "      <th>id</th>\n",
              "      <th>target</th>\n",
              "      <th>0</th>\n",
              "      <th>1</th>\n",
              "      <th>2</th>\n",
              "      <th>3</th>\n",
              "      <th>4</th>\n",
              "      <th>5</th>\n",
              "      <th>6</th>\n",
              "      <th>7</th>\n",
              "      <th>...</th>\n",
              "      <th>290</th>\n",
              "      <th>291</th>\n",
              "      <th>292</th>\n",
              "      <th>293</th>\n",
              "      <th>294</th>\n",
              "      <th>295</th>\n",
              "      <th>296</th>\n",
              "      <th>297</th>\n",
              "      <th>298</th>\n",
              "      <th>299</th>\n",
              "    </tr>\n",
              "  </thead>\n",
              "  <tbody>\n",
              "    <tr>\n",
              "      <th>0</th>\n",
              "      <td>0</td>\n",
              "      <td>1.0</td>\n",
              "      <td>-0.098</td>\n",
              "      <td>2.165</td>\n",
              "      <td>0.681</td>\n",
              "      <td>-0.614</td>\n",
              "      <td>1.309</td>\n",
              "      <td>-0.455</td>\n",
              "      <td>-0.236</td>\n",
              "      <td>0.276</td>\n",
              "      <td>...</td>\n",
              "      <td>0.867</td>\n",
              "      <td>1.347</td>\n",
              "      <td>0.504</td>\n",
              "      <td>-0.649</td>\n",
              "      <td>0.672</td>\n",
              "      <td>-2.097</td>\n",
              "      <td>1.051</td>\n",
              "      <td>-0.414</td>\n",
              "      <td>1.038</td>\n",
              "      <td>-1.065</td>\n",
              "    </tr>\n",
              "    <tr>\n",
              "      <th>1</th>\n",
              "      <td>1</td>\n",
              "      <td>0.0</td>\n",
              "      <td>1.081</td>\n",
              "      <td>-0.973</td>\n",
              "      <td>-0.383</td>\n",
              "      <td>0.326</td>\n",
              "      <td>-0.428</td>\n",
              "      <td>0.317</td>\n",
              "      <td>1.172</td>\n",
              "      <td>0.352</td>\n",
              "      <td>...</td>\n",
              "      <td>-0.165</td>\n",
              "      <td>-1.695</td>\n",
              "      <td>-1.257</td>\n",
              "      <td>1.359</td>\n",
              "      <td>-0.808</td>\n",
              "      <td>-1.624</td>\n",
              "      <td>-0.458</td>\n",
              "      <td>-1.099</td>\n",
              "      <td>-0.936</td>\n",
              "      <td>0.973</td>\n",
              "    </tr>\n",
              "    <tr>\n",
              "      <th>2</th>\n",
              "      <td>2</td>\n",
              "      <td>1.0</td>\n",
              "      <td>-0.523</td>\n",
              "      <td>-0.089</td>\n",
              "      <td>-0.348</td>\n",
              "      <td>0.148</td>\n",
              "      <td>-0.022</td>\n",
              "      <td>0.404</td>\n",
              "      <td>-0.023</td>\n",
              "      <td>-0.172</td>\n",
              "      <td>...</td>\n",
              "      <td>0.013</td>\n",
              "      <td>0.263</td>\n",
              "      <td>-1.222</td>\n",
              "      <td>0.726</td>\n",
              "      <td>1.444</td>\n",
              "      <td>-1.165</td>\n",
              "      <td>-1.544</td>\n",
              "      <td>0.004</td>\n",
              "      <td>0.800</td>\n",
              "      <td>-1.211</td>\n",
              "    </tr>\n",
              "    <tr>\n",
              "      <th>3</th>\n",
              "      <td>3</td>\n",
              "      <td>1.0</td>\n",
              "      <td>0.067</td>\n",
              "      <td>-0.021</td>\n",
              "      <td>0.392</td>\n",
              "      <td>-1.637</td>\n",
              "      <td>-0.446</td>\n",
              "      <td>-0.725</td>\n",
              "      <td>-1.035</td>\n",
              "      <td>0.834</td>\n",
              "      <td>...</td>\n",
              "      <td>-0.404</td>\n",
              "      <td>0.640</td>\n",
              "      <td>-0.595</td>\n",
              "      <td>-0.966</td>\n",
              "      <td>0.900</td>\n",
              "      <td>0.467</td>\n",
              "      <td>-0.562</td>\n",
              "      <td>-0.254</td>\n",
              "      <td>-0.533</td>\n",
              "      <td>0.238</td>\n",
              "    </tr>\n",
              "    <tr>\n",
              "      <th>4</th>\n",
              "      <td>4</td>\n",
              "      <td>1.0</td>\n",
              "      <td>2.347</td>\n",
              "      <td>-0.831</td>\n",
              "      <td>0.511</td>\n",
              "      <td>-0.021</td>\n",
              "      <td>1.225</td>\n",
              "      <td>1.594</td>\n",
              "      <td>0.585</td>\n",
              "      <td>1.509</td>\n",
              "      <td>...</td>\n",
              "      <td>0.898</td>\n",
              "      <td>0.134</td>\n",
              "      <td>2.415</td>\n",
              "      <td>-0.996</td>\n",
              "      <td>-1.006</td>\n",
              "      <td>1.378</td>\n",
              "      <td>1.246</td>\n",
              "      <td>1.478</td>\n",
              "      <td>0.428</td>\n",
              "      <td>0.253</td>\n",
              "    </tr>\n",
              "    <tr>\n",
              "      <th>5</th>\n",
              "      <td>5</td>\n",
              "      <td>1.0</td>\n",
              "      <td>-0.641</td>\n",
              "      <td>-0.576</td>\n",
              "      <td>2.493</td>\n",
              "      <td>0.317</td>\n",
              "      <td>0.009</td>\n",
              "      <td>0.428</td>\n",
              "      <td>-1.887</td>\n",
              "      <td>2.412</td>\n",
              "      <td>...</td>\n",
              "      <td>-0.266</td>\n",
              "      <td>1.548</td>\n",
              "      <td>-0.523</td>\n",
              "      <td>0.923</td>\n",
              "      <td>0.021</td>\n",
              "      <td>-0.909</td>\n",
              "      <td>0.629</td>\n",
              "      <td>-2.386</td>\n",
              "      <td>0.265</td>\n",
              "      <td>0.549</td>\n",
              "    </tr>\n",
              "    <tr>\n",
              "      <th>6</th>\n",
              "      <td>6</td>\n",
              "      <td>1.0</td>\n",
              "      <td>-0.490</td>\n",
              "      <td>0.557</td>\n",
              "      <td>-0.881</td>\n",
              "      <td>0.831</td>\n",
              "      <td>0.247</td>\n",
              "      <td>2.316</td>\n",
              "      <td>1.268</td>\n",
              "      <td>1.679</td>\n",
              "      <td>...</td>\n",
              "      <td>1.131</td>\n",
              "      <td>0.808</td>\n",
              "      <td>-1.398</td>\n",
              "      <td>0.053</td>\n",
              "      <td>0.667</td>\n",
              "      <td>-1.175</td>\n",
              "      <td>2.330</td>\n",
              "      <td>2.104</td>\n",
              "      <td>0.007</td>\n",
              "      <td>-1.066</td>\n",
              "    </tr>\n",
              "    <tr>\n",
              "      <th>7</th>\n",
              "      <td>7</td>\n",
              "      <td>1.0</td>\n",
              "      <td>1.252</td>\n",
              "      <td>-1.370</td>\n",
              "      <td>-0.196</td>\n",
              "      <td>2.246</td>\n",
              "      <td>-0.617</td>\n",
              "      <td>-0.479</td>\n",
              "      <td>-0.629</td>\n",
              "      <td>1.642</td>\n",
              "      <td>...</td>\n",
              "      <td>-1.978</td>\n",
              "      <td>2.801</td>\n",
              "      <td>-1.643</td>\n",
              "      <td>-0.244</td>\n",
              "      <td>-0.864</td>\n",
              "      <td>-0.022</td>\n",
              "      <td>1.598</td>\n",
              "      <td>-0.693</td>\n",
              "      <td>-0.358</td>\n",
              "      <td>-0.084</td>\n",
              "    </tr>\n",
              "    <tr>\n",
              "      <th>8</th>\n",
              "      <td>8</td>\n",
              "      <td>1.0</td>\n",
              "      <td>1.410</td>\n",
              "      <td>-1.097</td>\n",
              "      <td>1.170</td>\n",
              "      <td>-0.091</td>\n",
              "      <td>-0.102</td>\n",
              "      <td>-0.835</td>\n",
              "      <td>-1.141</td>\n",
              "      <td>0.355</td>\n",
              "      <td>...</td>\n",
              "      <td>-1.546</td>\n",
              "      <td>-0.190</td>\n",
              "      <td>1.387</td>\n",
              "      <td>1.021</td>\n",
              "      <td>-0.912</td>\n",
              "      <td>0.094</td>\n",
              "      <td>-0.930</td>\n",
              "      <td>1.931</td>\n",
              "      <td>1.190</td>\n",
              "      <td>0.964</td>\n",
              "    </tr>\n",
              "    <tr>\n",
              "      <th>9</th>\n",
              "      <td>9</td>\n",
              "      <td>1.0</td>\n",
              "      <td>-1.811</td>\n",
              "      <td>0.566</td>\n",
              "      <td>-0.406</td>\n",
              "      <td>-0.490</td>\n",
              "      <td>-0.985</td>\n",
              "      <td>-0.303</td>\n",
              "      <td>1.068</td>\n",
              "      <td>-0.038</td>\n",
              "      <td>...</td>\n",
              "      <td>-0.705</td>\n",
              "      <td>1.045</td>\n",
              "      <td>-1.281</td>\n",
              "      <td>-1.727</td>\n",
              "      <td>-0.969</td>\n",
              "      <td>-1.367</td>\n",
              "      <td>0.109</td>\n",
              "      <td>1.416</td>\n",
              "      <td>1.472</td>\n",
              "      <td>1.458</td>\n",
              "    </tr>\n",
              "  </tbody>\n",
              "</table>\n",
              "<p>10 rows × 302 columns</p>\n",
              "</div>"
            ],
            "text/plain": [
              "   id  target      0      1      2      3      4      5      6      7  ...    \\\n",
              "0   0     1.0 -0.098  2.165  0.681 -0.614  1.309 -0.455 -0.236  0.276  ...     \n",
              "1   1     0.0  1.081 -0.973 -0.383  0.326 -0.428  0.317  1.172  0.352  ...     \n",
              "2   2     1.0 -0.523 -0.089 -0.348  0.148 -0.022  0.404 -0.023 -0.172  ...     \n",
              "3   3     1.0  0.067 -0.021  0.392 -1.637 -0.446 -0.725 -1.035  0.834  ...     \n",
              "4   4     1.0  2.347 -0.831  0.511 -0.021  1.225  1.594  0.585  1.509  ...     \n",
              "5   5     1.0 -0.641 -0.576  2.493  0.317  0.009  0.428 -1.887  2.412  ...     \n",
              "6   6     1.0 -0.490  0.557 -0.881  0.831  0.247  2.316  1.268  1.679  ...     \n",
              "7   7     1.0  1.252 -1.370 -0.196  2.246 -0.617 -0.479 -0.629  1.642  ...     \n",
              "8   8     1.0  1.410 -1.097  1.170 -0.091 -0.102 -0.835 -1.141  0.355  ...     \n",
              "9   9     1.0 -1.811  0.566 -0.406 -0.490 -0.985 -0.303  1.068 -0.038  ...     \n",
              "\n",
              "     290    291    292    293    294    295    296    297    298    299  \n",
              "0  0.867  1.347  0.504 -0.649  0.672 -2.097  1.051 -0.414  1.038 -1.065  \n",
              "1 -0.165 -1.695 -1.257  1.359 -0.808 -1.624 -0.458 -1.099 -0.936  0.973  \n",
              "2  0.013  0.263 -1.222  0.726  1.444 -1.165 -1.544  0.004  0.800 -1.211  \n",
              "3 -0.404  0.640 -0.595 -0.966  0.900  0.467 -0.562 -0.254 -0.533  0.238  \n",
              "4  0.898  0.134  2.415 -0.996 -1.006  1.378  1.246  1.478  0.428  0.253  \n",
              "5 -0.266  1.548 -0.523  0.923  0.021 -0.909  0.629 -2.386  0.265  0.549  \n",
              "6  1.131  0.808 -1.398  0.053  0.667 -1.175  2.330  2.104  0.007 -1.066  \n",
              "7 -1.978  2.801 -1.643 -0.244 -0.864 -0.022  1.598 -0.693 -0.358 -0.084  \n",
              "8 -1.546 -0.190  1.387  1.021 -0.912  0.094 -0.930  1.931  1.190  0.964  \n",
              "9 -0.705  1.045 -1.281 -1.727 -0.969 -1.367  0.109  1.416  1.472  1.458  \n",
              "\n",
              "[10 rows x 302 columns]"
            ]
          },
          "metadata": {
            "tags": []
          },
          "execution_count": 3
        }
      ]
    },
    {
      "metadata": {
        "id": "LaNH6um-VicH",
        "colab_type": "code",
        "colab": {}
      },
      "cell_type": "code",
      "source": [
        "x = df.iloc[:, 2:]"
      ],
      "execution_count": 0,
      "outputs": []
    },
    {
      "metadata": {
        "id": "EvyTNXs6Vx9L",
        "colab_type": "code",
        "outputId": "0e5de3de-5ca7-4901-e4b7-261ce54145f6",
        "colab": {
          "base_uri": "https://localhost:8080/",
          "height": 33
        }
      },
      "cell_type": "code",
      "source": [
        "x.shape"
      ],
      "execution_count": 5,
      "outputs": [
        {
          "output_type": "execute_result",
          "data": {
            "text/plain": [
              "(250, 300)"
            ]
          },
          "metadata": {
            "tags": []
          },
          "execution_count": 5
        }
      ]
    },
    {
      "metadata": {
        "id": "QOrj9Ja-Vy-U",
        "colab_type": "code",
        "outputId": "90f998b0-6b6d-401e-f5fe-fedcc0de92a5",
        "colab": {
          "base_uri": "https://localhost:8080/",
          "height": 33
        }
      },
      "cell_type": "code",
      "source": [
        "df.shape"
      ],
      "execution_count": 6,
      "outputs": [
        {
          "output_type": "execute_result",
          "data": {
            "text/plain": [
              "(250, 302)"
            ]
          },
          "metadata": {
            "tags": []
          },
          "execution_count": 6
        }
      ]
    },
    {
      "metadata": {
        "id": "nyWFMKpOV2sQ",
        "colab_type": "code",
        "outputId": "57a63a82-dc89-4ec7-f66b-d3ee5152ee8d",
        "colab": {
          "base_uri": "https://localhost:8080/",
          "height": 374
        }
      },
      "cell_type": "code",
      "source": [
        "x.head(10)"
      ],
      "execution_count": 7,
      "outputs": [
        {
          "output_type": "execute_result",
          "data": {
            "text/html": [
              "<div>\n",
              "<style scoped>\n",
              "    .dataframe tbody tr th:only-of-type {\n",
              "        vertical-align: middle;\n",
              "    }\n",
              "\n",
              "    .dataframe tbody tr th {\n",
              "        vertical-align: top;\n",
              "    }\n",
              "\n",
              "    .dataframe thead th {\n",
              "        text-align: right;\n",
              "    }\n",
              "</style>\n",
              "<table border=\"1\" class=\"dataframe\">\n",
              "  <thead>\n",
              "    <tr style=\"text-align: right;\">\n",
              "      <th></th>\n",
              "      <th>0</th>\n",
              "      <th>1</th>\n",
              "      <th>2</th>\n",
              "      <th>3</th>\n",
              "      <th>4</th>\n",
              "      <th>5</th>\n",
              "      <th>6</th>\n",
              "      <th>7</th>\n",
              "      <th>8</th>\n",
              "      <th>9</th>\n",
              "      <th>...</th>\n",
              "      <th>290</th>\n",
              "      <th>291</th>\n",
              "      <th>292</th>\n",
              "      <th>293</th>\n",
              "      <th>294</th>\n",
              "      <th>295</th>\n",
              "      <th>296</th>\n",
              "      <th>297</th>\n",
              "      <th>298</th>\n",
              "      <th>299</th>\n",
              "    </tr>\n",
              "  </thead>\n",
              "  <tbody>\n",
              "    <tr>\n",
              "      <th>0</th>\n",
              "      <td>-0.098</td>\n",
              "      <td>2.165</td>\n",
              "      <td>0.681</td>\n",
              "      <td>-0.614</td>\n",
              "      <td>1.309</td>\n",
              "      <td>-0.455</td>\n",
              "      <td>-0.236</td>\n",
              "      <td>0.276</td>\n",
              "      <td>-2.246</td>\n",
              "      <td>1.825</td>\n",
              "      <td>...</td>\n",
              "      <td>0.867</td>\n",
              "      <td>1.347</td>\n",
              "      <td>0.504</td>\n",
              "      <td>-0.649</td>\n",
              "      <td>0.672</td>\n",
              "      <td>-2.097</td>\n",
              "      <td>1.051</td>\n",
              "      <td>-0.414</td>\n",
              "      <td>1.038</td>\n",
              "      <td>-1.065</td>\n",
              "    </tr>\n",
              "    <tr>\n",
              "      <th>1</th>\n",
              "      <td>1.081</td>\n",
              "      <td>-0.973</td>\n",
              "      <td>-0.383</td>\n",
              "      <td>0.326</td>\n",
              "      <td>-0.428</td>\n",
              "      <td>0.317</td>\n",
              "      <td>1.172</td>\n",
              "      <td>0.352</td>\n",
              "      <td>0.004</td>\n",
              "      <td>-0.291</td>\n",
              "      <td>...</td>\n",
              "      <td>-0.165</td>\n",
              "      <td>-1.695</td>\n",
              "      <td>-1.257</td>\n",
              "      <td>1.359</td>\n",
              "      <td>-0.808</td>\n",
              "      <td>-1.624</td>\n",
              "      <td>-0.458</td>\n",
              "      <td>-1.099</td>\n",
              "      <td>-0.936</td>\n",
              "      <td>0.973</td>\n",
              "    </tr>\n",
              "    <tr>\n",
              "      <th>2</th>\n",
              "      <td>-0.523</td>\n",
              "      <td>-0.089</td>\n",
              "      <td>-0.348</td>\n",
              "      <td>0.148</td>\n",
              "      <td>-0.022</td>\n",
              "      <td>0.404</td>\n",
              "      <td>-0.023</td>\n",
              "      <td>-0.172</td>\n",
              "      <td>0.137</td>\n",
              "      <td>0.183</td>\n",
              "      <td>...</td>\n",
              "      <td>0.013</td>\n",
              "      <td>0.263</td>\n",
              "      <td>-1.222</td>\n",
              "      <td>0.726</td>\n",
              "      <td>1.444</td>\n",
              "      <td>-1.165</td>\n",
              "      <td>-1.544</td>\n",
              "      <td>0.004</td>\n",
              "      <td>0.800</td>\n",
              "      <td>-1.211</td>\n",
              "    </tr>\n",
              "    <tr>\n",
              "      <th>3</th>\n",
              "      <td>0.067</td>\n",
              "      <td>-0.021</td>\n",
              "      <td>0.392</td>\n",
              "      <td>-1.637</td>\n",
              "      <td>-0.446</td>\n",
              "      <td>-0.725</td>\n",
              "      <td>-1.035</td>\n",
              "      <td>0.834</td>\n",
              "      <td>0.503</td>\n",
              "      <td>0.274</td>\n",
              "      <td>...</td>\n",
              "      <td>-0.404</td>\n",
              "      <td>0.640</td>\n",
              "      <td>-0.595</td>\n",
              "      <td>-0.966</td>\n",
              "      <td>0.900</td>\n",
              "      <td>0.467</td>\n",
              "      <td>-0.562</td>\n",
              "      <td>-0.254</td>\n",
              "      <td>-0.533</td>\n",
              "      <td>0.238</td>\n",
              "    </tr>\n",
              "    <tr>\n",
              "      <th>4</th>\n",
              "      <td>2.347</td>\n",
              "      <td>-0.831</td>\n",
              "      <td>0.511</td>\n",
              "      <td>-0.021</td>\n",
              "      <td>1.225</td>\n",
              "      <td>1.594</td>\n",
              "      <td>0.585</td>\n",
              "      <td>1.509</td>\n",
              "      <td>-0.012</td>\n",
              "      <td>2.198</td>\n",
              "      <td>...</td>\n",
              "      <td>0.898</td>\n",
              "      <td>0.134</td>\n",
              "      <td>2.415</td>\n",
              "      <td>-0.996</td>\n",
              "      <td>-1.006</td>\n",
              "      <td>1.378</td>\n",
              "      <td>1.246</td>\n",
              "      <td>1.478</td>\n",
              "      <td>0.428</td>\n",
              "      <td>0.253</td>\n",
              "    </tr>\n",
              "    <tr>\n",
              "      <th>5</th>\n",
              "      <td>-0.641</td>\n",
              "      <td>-0.576</td>\n",
              "      <td>2.493</td>\n",
              "      <td>0.317</td>\n",
              "      <td>0.009</td>\n",
              "      <td>0.428</td>\n",
              "      <td>-1.887</td>\n",
              "      <td>2.412</td>\n",
              "      <td>0.374</td>\n",
              "      <td>0.734</td>\n",
              "      <td>...</td>\n",
              "      <td>-0.266</td>\n",
              "      <td>1.548</td>\n",
              "      <td>-0.523</td>\n",
              "      <td>0.923</td>\n",
              "      <td>0.021</td>\n",
              "      <td>-0.909</td>\n",
              "      <td>0.629</td>\n",
              "      <td>-2.386</td>\n",
              "      <td>0.265</td>\n",
              "      <td>0.549</td>\n",
              "    </tr>\n",
              "    <tr>\n",
              "      <th>6</th>\n",
              "      <td>-0.490</td>\n",
              "      <td>0.557</td>\n",
              "      <td>-0.881</td>\n",
              "      <td>0.831</td>\n",
              "      <td>0.247</td>\n",
              "      <td>2.316</td>\n",
              "      <td>1.268</td>\n",
              "      <td>1.679</td>\n",
              "      <td>-0.141</td>\n",
              "      <td>-1.571</td>\n",
              "      <td>...</td>\n",
              "      <td>1.131</td>\n",
              "      <td>0.808</td>\n",
              "      <td>-1.398</td>\n",
              "      <td>0.053</td>\n",
              "      <td>0.667</td>\n",
              "      <td>-1.175</td>\n",
              "      <td>2.330</td>\n",
              "      <td>2.104</td>\n",
              "      <td>0.007</td>\n",
              "      <td>-1.066</td>\n",
              "    </tr>\n",
              "    <tr>\n",
              "      <th>7</th>\n",
              "      <td>1.252</td>\n",
              "      <td>-1.370</td>\n",
              "      <td>-0.196</td>\n",
              "      <td>2.246</td>\n",
              "      <td>-0.617</td>\n",
              "      <td>-0.479</td>\n",
              "      <td>-0.629</td>\n",
              "      <td>1.642</td>\n",
              "      <td>-0.401</td>\n",
              "      <td>-1.750</td>\n",
              "      <td>...</td>\n",
              "      <td>-1.978</td>\n",
              "      <td>2.801</td>\n",
              "      <td>-1.643</td>\n",
              "      <td>-0.244</td>\n",
              "      <td>-0.864</td>\n",
              "      <td>-0.022</td>\n",
              "      <td>1.598</td>\n",
              "      <td>-0.693</td>\n",
              "      <td>-0.358</td>\n",
              "      <td>-0.084</td>\n",
              "    </tr>\n",
              "    <tr>\n",
              "      <th>8</th>\n",
              "      <td>1.410</td>\n",
              "      <td>-1.097</td>\n",
              "      <td>1.170</td>\n",
              "      <td>-0.091</td>\n",
              "      <td>-0.102</td>\n",
              "      <td>-0.835</td>\n",
              "      <td>-1.141</td>\n",
              "      <td>0.355</td>\n",
              "      <td>-0.513</td>\n",
              "      <td>-2.165</td>\n",
              "      <td>...</td>\n",
              "      <td>-1.546</td>\n",
              "      <td>-0.190</td>\n",
              "      <td>1.387</td>\n",
              "      <td>1.021</td>\n",
              "      <td>-0.912</td>\n",
              "      <td>0.094</td>\n",
              "      <td>-0.930</td>\n",
              "      <td>1.931</td>\n",
              "      <td>1.190</td>\n",
              "      <td>0.964</td>\n",
              "    </tr>\n",
              "    <tr>\n",
              "      <th>9</th>\n",
              "      <td>-1.811</td>\n",
              "      <td>0.566</td>\n",
              "      <td>-0.406</td>\n",
              "      <td>-0.490</td>\n",
              "      <td>-0.985</td>\n",
              "      <td>-0.303</td>\n",
              "      <td>1.068</td>\n",
              "      <td>-0.038</td>\n",
              "      <td>-0.163</td>\n",
              "      <td>-0.465</td>\n",
              "      <td>...</td>\n",
              "      <td>-0.705</td>\n",
              "      <td>1.045</td>\n",
              "      <td>-1.281</td>\n",
              "      <td>-1.727</td>\n",
              "      <td>-0.969</td>\n",
              "      <td>-1.367</td>\n",
              "      <td>0.109</td>\n",
              "      <td>1.416</td>\n",
              "      <td>1.472</td>\n",
              "      <td>1.458</td>\n",
              "    </tr>\n",
              "  </tbody>\n",
              "</table>\n",
              "<p>10 rows × 300 columns</p>\n",
              "</div>"
            ],
            "text/plain": [
              "       0      1      2      3      4      5      6      7      8      9  \\\n",
              "0 -0.098  2.165  0.681 -0.614  1.309 -0.455 -0.236  0.276 -2.246  1.825   \n",
              "1  1.081 -0.973 -0.383  0.326 -0.428  0.317  1.172  0.352  0.004 -0.291   \n",
              "2 -0.523 -0.089 -0.348  0.148 -0.022  0.404 -0.023 -0.172  0.137  0.183   \n",
              "3  0.067 -0.021  0.392 -1.637 -0.446 -0.725 -1.035  0.834  0.503  0.274   \n",
              "4  2.347 -0.831  0.511 -0.021  1.225  1.594  0.585  1.509 -0.012  2.198   \n",
              "5 -0.641 -0.576  2.493  0.317  0.009  0.428 -1.887  2.412  0.374  0.734   \n",
              "6 -0.490  0.557 -0.881  0.831  0.247  2.316  1.268  1.679 -0.141 -1.571   \n",
              "7  1.252 -1.370 -0.196  2.246 -0.617 -0.479 -0.629  1.642 -0.401 -1.750   \n",
              "8  1.410 -1.097  1.170 -0.091 -0.102 -0.835 -1.141  0.355 -0.513 -2.165   \n",
              "9 -1.811  0.566 -0.406 -0.490 -0.985 -0.303  1.068 -0.038 -0.163 -0.465   \n",
              "\n",
              "   ...      290    291    292    293    294    295    296    297    298    299  \n",
              "0  ...    0.867  1.347  0.504 -0.649  0.672 -2.097  1.051 -0.414  1.038 -1.065  \n",
              "1  ...   -0.165 -1.695 -1.257  1.359 -0.808 -1.624 -0.458 -1.099 -0.936  0.973  \n",
              "2  ...    0.013  0.263 -1.222  0.726  1.444 -1.165 -1.544  0.004  0.800 -1.211  \n",
              "3  ...   -0.404  0.640 -0.595 -0.966  0.900  0.467 -0.562 -0.254 -0.533  0.238  \n",
              "4  ...    0.898  0.134  2.415 -0.996 -1.006  1.378  1.246  1.478  0.428  0.253  \n",
              "5  ...   -0.266  1.548 -0.523  0.923  0.021 -0.909  0.629 -2.386  0.265  0.549  \n",
              "6  ...    1.131  0.808 -1.398  0.053  0.667 -1.175  2.330  2.104  0.007 -1.066  \n",
              "7  ...   -1.978  2.801 -1.643 -0.244 -0.864 -0.022  1.598 -0.693 -0.358 -0.084  \n",
              "8  ...   -1.546 -0.190  1.387  1.021 -0.912  0.094 -0.930  1.931  1.190  0.964  \n",
              "9  ...   -0.705  1.045 -1.281 -1.727 -0.969 -1.367  0.109  1.416  1.472  1.458  \n",
              "\n",
              "[10 rows x 300 columns]"
            ]
          },
          "metadata": {
            "tags": []
          },
          "execution_count": 7
        }
      ]
    },
    {
      "metadata": {
        "id": "PRVfHQ8SV8Bx",
        "colab_type": "code",
        "outputId": "2eb32d54-6b98-4d24-c8bd-0cd5881582df",
        "colab": {
          "base_uri": "https://localhost:8080/",
          "height": 1054
        }
      },
      "cell_type": "code",
      "source": [
        "x.isnull().sum()"
      ],
      "execution_count": 8,
      "outputs": [
        {
          "output_type": "execute_result",
          "data": {
            "text/plain": [
              "0      0\n",
              "1      0\n",
              "2      0\n",
              "3      0\n",
              "4      0\n",
              "5      0\n",
              "6      0\n",
              "7      0\n",
              "8      0\n",
              "9      0\n",
              "10     0\n",
              "11     0\n",
              "12     0\n",
              "13     0\n",
              "14     0\n",
              "15     0\n",
              "16     0\n",
              "17     0\n",
              "18     0\n",
              "19     0\n",
              "20     0\n",
              "21     0\n",
              "22     0\n",
              "23     0\n",
              "24     0\n",
              "25     0\n",
              "26     0\n",
              "27     0\n",
              "28     0\n",
              "29     0\n",
              "      ..\n",
              "270    0\n",
              "271    0\n",
              "272    0\n",
              "273    0\n",
              "274    0\n",
              "275    0\n",
              "276    0\n",
              "277    0\n",
              "278    0\n",
              "279    0\n",
              "280    0\n",
              "281    0\n",
              "282    0\n",
              "283    0\n",
              "284    0\n",
              "285    0\n",
              "286    0\n",
              "287    0\n",
              "288    0\n",
              "289    0\n",
              "290    0\n",
              "291    0\n",
              "292    0\n",
              "293    0\n",
              "294    0\n",
              "295    0\n",
              "296    0\n",
              "297    0\n",
              "298    0\n",
              "299    0\n",
              "Length: 300, dtype: int64"
            ]
          },
          "metadata": {
            "tags": []
          },
          "execution_count": 8
        }
      ]
    },
    {
      "metadata": {
        "id": "4OfSv7AsWAmd",
        "colab_type": "code",
        "outputId": "e718687b-cf42-47cc-df2b-7d0653d98fe1",
        "colab": {
          "base_uri": "https://localhost:8080/",
          "height": 33
        }
      },
      "cell_type": "code",
      "source": [
        "x.isnull().any().any()"
      ],
      "execution_count": 9,
      "outputs": [
        {
          "output_type": "execute_result",
          "data": {
            "text/plain": [
              "False"
            ]
          },
          "metadata": {
            "tags": []
          },
          "execution_count": 9
        }
      ]
    },
    {
      "metadata": {
        "id": "4HpLtreyWEf4",
        "colab_type": "code",
        "colab": {}
      },
      "cell_type": "code",
      "source": [
        "y = df.iloc[:, 1].values"
      ],
      "execution_count": 0,
      "outputs": []
    },
    {
      "metadata": {
        "id": "SXUcWJfGWPMr",
        "colab_type": "code",
        "outputId": "1552a21c-b637-4cdc-edeb-2f90cc21cfe8",
        "colab": {
          "base_uri": "https://localhost:8080/",
          "height": 33
        }
      },
      "cell_type": "code",
      "source": [
        "y.shape"
      ],
      "execution_count": 11,
      "outputs": [
        {
          "output_type": "execute_result",
          "data": {
            "text/plain": [
              "(250,)"
            ]
          },
          "metadata": {
            "tags": []
          },
          "execution_count": 11
        }
      ]
    },
    {
      "metadata": {
        "id": "yYQ7XJiuWQbv",
        "colab_type": "code",
        "outputId": "16996881-db17-4372-c1a0-56e4e9d5b89b",
        "colab": {
          "base_uri": "https://localhost:8080/",
          "height": 268
        }
      },
      "cell_type": "code",
      "source": [
        "y"
      ],
      "execution_count": 12,
      "outputs": [
        {
          "output_type": "execute_result",
          "data": {
            "text/plain": [
              "array([1., 0., 1., 1., 1., 1., 1., 1., 1., 1., 0., 1., 1., 0., 0., 1., 1.,\n",
              "       0., 1., 1., 1., 1., 0., 1., 1., 1., 1., 1., 1., 1., 1., 1., 1., 1.,\n",
              "       1., 1., 1., 1., 0., 1., 1., 1., 1., 0., 1., 1., 1., 1., 0., 0., 1.,\n",
              "       1., 0., 1., 0., 1., 0., 1., 0., 0., 1., 1., 0., 0., 0., 1., 0., 1.,\n",
              "       1., 1., 0., 1., 1., 1., 1., 0., 1., 1., 0., 1., 1., 0., 0., 1., 1.,\n",
              "       1., 0., 1., 1., 1., 1., 0., 1., 1., 1., 1., 0., 1., 1., 1., 1., 0.,\n",
              "       0., 1., 0., 1., 1., 0., 0., 1., 1., 1., 1., 1., 0., 1., 1., 0., 0.,\n",
              "       1., 0., 1., 0., 1., 0., 1., 0., 0., 0., 1., 1., 1., 1., 1., 0., 1.,\n",
              "       0., 1., 1., 0., 1., 0., 1., 0., 1., 1., 1., 1., 0., 1., 0., 1., 1.,\n",
              "       0., 0., 1., 1., 0., 0., 1., 1., 0., 1., 1., 0., 1., 1., 1., 0., 0.,\n",
              "       0., 0., 0., 1., 1., 1., 1., 0., 0., 1., 1., 0., 0., 0., 1., 1., 1.,\n",
              "       1., 1., 0., 1., 1., 1., 0., 0., 1., 1., 1., 0., 1., 1., 0., 1., 1.,\n",
              "       1., 0., 1., 0., 1., 0., 0., 0., 0., 1., 1., 0., 1., 1., 0., 1., 1.,\n",
              "       1., 1., 1., 1., 0., 1., 0., 0., 1., 1., 1., 1., 0., 0., 1., 1., 1.,\n",
              "       1., 0., 0., 1., 1., 0., 0., 0., 0., 0., 1., 0.])"
            ]
          },
          "metadata": {
            "tags": []
          },
          "execution_count": 12
        }
      ]
    },
    {
      "metadata": {
        "id": "EsF8ErsAWSfx",
        "colab_type": "code",
        "colab": {}
      },
      "cell_type": "code",
      "source": [
        ""
      ],
      "execution_count": 0,
      "outputs": []
    },
    {
      "metadata": {
        "id": "SN5gMt2tWV0i",
        "colab_type": "code",
        "outputId": "c74e4dc6-5948-41d6-e27c-84e2026fdbee",
        "colab": {
          "base_uri": "https://localhost:8080/",
          "height": 84
        }
      },
      "cell_type": "code",
      "source": [
        "df.columns"
      ],
      "execution_count": 13,
      "outputs": [
        {
          "output_type": "execute_result",
          "data": {
            "text/plain": [
              "Index(['id', 'target', '0', '1', '2', '3', '4', '5', '6', '7',\n",
              "       ...\n",
              "       '290', '291', '292', '293', '294', '295', '296', '297', '298', '299'],\n",
              "      dtype='object', length=302)"
            ]
          },
          "metadata": {
            "tags": []
          },
          "execution_count": 13
        }
      ]
    },
    {
      "metadata": {
        "id": "1YFV0vobWcIB",
        "colab_type": "code",
        "outputId": "ae9956ba-cb56-48b2-e6fb-ee6e23b552dc",
        "colab": {
          "base_uri": "https://localhost:8080/",
          "height": 67
        }
      },
      "cell_type": "code",
      "source": [
        "df['target'].value_counts()"
      ],
      "execution_count": 14,
      "outputs": [
        {
          "output_type": "execute_result",
          "data": {
            "text/plain": [
              "1.0    160\n",
              "0.0     90\n",
              "Name: target, dtype: int64"
            ]
          },
          "metadata": {
            "tags": []
          },
          "execution_count": 14
        }
      ]
    },
    {
      "metadata": {
        "id": "0NS_G9t-XOY2",
        "colab_type": "code",
        "colab": {
          "base_uri": "https://localhost:8080/",
          "height": 329
        },
        "outputId": "ba488fba-8a37-4d7b-ea95-92f20aa6058d"
      },
      "cell_type": "code",
      "source": [
        "import matplotlib.pyplot as plt\n",
        "values = [160, 90]\n",
        "label = ['1', '0']\n",
        "color = ['red', 'blue']\n",
        "explode = [0, 0.1]\n",
        "plt.pie(values,labels = label, explode = explode, shadow = True,autopct='%1.1f%%')\n",
        "\n",
        "plt.show()"
      ],
      "execution_count": 21,
      "outputs": [
        {
          "output_type": "display_data",
          "data": {
            "image/png": "[encoded data removed]",
            "text/plain": [
              "<Figure size 576x396 with 1 Axes>"
            ]
          },
          "metadata": {
            "tags": []
          }
        }
      ]
    },
    {
      "metadata": {
        "id": "oSePsDo9W1yH",
        "colab_type": "code",
        "colab": {}
      },
      "cell_type": "code",
      "source": [
        "from sklearn.linear_model import LogisticRegression\n",
        "\n",
        "lr = LogisticRegression(C = 100, random_state = 0, penalty = 'l2')\n"
      ],
      "execution_count": 0,
      "outputs": []
    },
    {
      "metadata": {
        "id": "p9YEH8ozXttr",
        "colab_type": "code",
        "outputId": "3a0bab2f-356d-4f71-9260-e6381d0cff73",
        "colab": {
          "base_uri": "https://localhost:8080/",
          "height": 137
        }
      },
      "cell_type": "code",
      "source": [
        "lr.fit(x,y)"
      ],
      "execution_count": 23,
      "outputs": [
        {
          "output_type": "stream",
          "text": [
            "/usr/local/lib/python3.6/dist-packages/sklearn/linear_model/logistic.py:433: FutureWarning: Default solver will be changed to 'lbfgs' in 0.22. Specify a solver to silence this warning.\n",
            "  FutureWarning)\n"
          ],
          "name": "stderr"
        },
        {
          "output_type": "execute_result",
          "data": {
            "text/plain": [
              "LogisticRegression(C=100, class_weight=None, dual=False, fit_intercept=True,\n",
              "          intercept_scaling=1, max_iter=100, multi_class='warn',\n",
              "          n_jobs=None, penalty='l2', random_state=0, solver='warn',\n",
              "          tol=0.0001, verbose=0, warm_start=False)"
            ]
          },
          "metadata": {
            "tags": []
          },
          "execution_count": 23
        }
      ]
    },
    {
      "metadata": {
        "id": "8ix8uu5BXv26",
        "colab_type": "code",
        "colab": {}
      },
      "cell_type": "code",
      "source": [
        "test1 = pd.read_csv('test.csv')"
      ],
      "execution_count": 0,
      "outputs": []
    },
    {
      "metadata": {
        "id": "KlsBpiKrX_B4",
        "colab_type": "code",
        "outputId": "355074aa-1292-4e22-bbdd-dbcda3251c4a",
        "colab": {
          "base_uri": "https://localhost:8080/",
          "height": 33
        }
      },
      "cell_type": "code",
      "source": [
        "test1.shape"
      ],
      "execution_count": 55,
      "outputs": [
        {
          "output_type": "execute_result",
          "data": {
            "text/plain": [
              "(19750, 301)"
            ]
          },
          "metadata": {
            "tags": []
          },
          "execution_count": 55
        }
      ]
    },
    {
      "metadata": {
        "id": "uCwqWnkxYAmW",
        "colab_type": "code",
        "outputId": "66bf102e-5469-4eb9-ea89-812e83b33852",
        "colab": {
          "base_uri": "https://localhost:8080/",
          "height": 374
        }
      },
      "cell_type": "code",
      "source": [
        "test1.head(10)"
      ],
      "execution_count": 56,
      "outputs": [
        {
          "output_type": "execute_result",
          "data": {
            "text/html": [
              "<div>\n",
              "<style scoped>\n",
              "    .dataframe tbody tr th:only-of-type {\n",
              "        vertical-align: middle;\n",
              "    }\n",
              "\n",
              "    .dataframe tbody tr th {\n",
              "        vertical-align: top;\n",
              "    }\n",
              "\n",
              "    .dataframe thead th {\n",
              "        text-align: right;\n",
              "    }\n",
              "</style>\n",
              "<table border=\"1\" class=\"dataframe\">\n",
              "  <thead>\n",
              "    <tr style=\"text-align: right;\">\n",
              "      <th></th>\n",
              "      <th>id</th>\n",
              "      <th>0</th>\n",
              "      <th>1</th>\n",
              "      <th>2</th>\n",
              "      <th>3</th>\n",
              "      <th>4</th>\n",
              "      <th>5</th>\n",
              "      <th>6</th>\n",
              "      <th>7</th>\n",
              "      <th>8</th>\n",
              "      <th>...</th>\n",
              "      <th>290</th>\n",
              "      <th>291</th>\n",
              "      <th>292</th>\n",
              "      <th>293</th>\n",
              "      <th>294</th>\n",
              "      <th>295</th>\n",
              "      <th>296</th>\n",
              "      <th>297</th>\n",
              "      <th>298</th>\n",
              "      <th>299</th>\n",
              "    </tr>\n",
              "  </thead>\n",
              "  <tbody>\n",
              "    <tr>\n",
              "      <th>0</th>\n",
              "      <td>250</td>\n",
              "      <td>0.500</td>\n",
              "      <td>-1.033</td>\n",
              "      <td>-1.595</td>\n",
              "      <td>0.309</td>\n",
              "      <td>-0.714</td>\n",
              "      <td>0.502</td>\n",
              "      <td>0.535</td>\n",
              "      <td>-0.129</td>\n",
              "      <td>-0.687</td>\n",
              "      <td>...</td>\n",
              "      <td>-0.088</td>\n",
              "      <td>-2.628</td>\n",
              "      <td>-0.845</td>\n",
              "      <td>2.078</td>\n",
              "      <td>-0.277</td>\n",
              "      <td>2.132</td>\n",
              "      <td>0.609</td>\n",
              "      <td>-0.104</td>\n",
              "      <td>0.312</td>\n",
              "      <td>0.979</td>\n",
              "    </tr>\n",
              "    <tr>\n",
              "      <th>1</th>\n",
              "      <td>251</td>\n",
              "      <td>0.776</td>\n",
              "      <td>0.914</td>\n",
              "      <td>-0.494</td>\n",
              "      <td>1.347</td>\n",
              "      <td>-0.867</td>\n",
              "      <td>0.480</td>\n",
              "      <td>0.578</td>\n",
              "      <td>-0.313</td>\n",
              "      <td>0.203</td>\n",
              "      <td>...</td>\n",
              "      <td>-0.683</td>\n",
              "      <td>-0.066</td>\n",
              "      <td>0.025</td>\n",
              "      <td>0.606</td>\n",
              "      <td>-0.353</td>\n",
              "      <td>-1.133</td>\n",
              "      <td>-3.138</td>\n",
              "      <td>0.281</td>\n",
              "      <td>-0.625</td>\n",
              "      <td>-0.761</td>\n",
              "    </tr>\n",
              "    <tr>\n",
              "      <th>2</th>\n",
              "      <td>252</td>\n",
              "      <td>1.750</td>\n",
              "      <td>0.509</td>\n",
              "      <td>-0.057</td>\n",
              "      <td>0.835</td>\n",
              "      <td>-0.476</td>\n",
              "      <td>1.428</td>\n",
              "      <td>-0.701</td>\n",
              "      <td>-2.009</td>\n",
              "      <td>-1.378</td>\n",
              "      <td>...</td>\n",
              "      <td>-0.094</td>\n",
              "      <td>0.351</td>\n",
              "      <td>-0.607</td>\n",
              "      <td>-0.737</td>\n",
              "      <td>-0.031</td>\n",
              "      <td>0.701</td>\n",
              "      <td>0.976</td>\n",
              "      <td>0.135</td>\n",
              "      <td>-1.327</td>\n",
              "      <td>2.463</td>\n",
              "    </tr>\n",
              "    <tr>\n",
              "      <th>3</th>\n",
              "      <td>253</td>\n",
              "      <td>-0.556</td>\n",
              "      <td>-1.855</td>\n",
              "      <td>-0.682</td>\n",
              "      <td>0.578</td>\n",
              "      <td>1.592</td>\n",
              "      <td>0.512</td>\n",
              "      <td>-1.419</td>\n",
              "      <td>0.722</td>\n",
              "      <td>0.511</td>\n",
              "      <td>...</td>\n",
              "      <td>-0.336</td>\n",
              "      <td>-0.787</td>\n",
              "      <td>0.255</td>\n",
              "      <td>-0.031</td>\n",
              "      <td>-0.836</td>\n",
              "      <td>0.916</td>\n",
              "      <td>2.411</td>\n",
              "      <td>1.053</td>\n",
              "      <td>-1.601</td>\n",
              "      <td>-1.529</td>\n",
              "    </tr>\n",
              "    <tr>\n",
              "      <th>4</th>\n",
              "      <td>254</td>\n",
              "      <td>0.754</td>\n",
              "      <td>-0.245</td>\n",
              "      <td>1.173</td>\n",
              "      <td>-1.623</td>\n",
              "      <td>0.009</td>\n",
              "      <td>0.370</td>\n",
              "      <td>0.781</td>\n",
              "      <td>-1.763</td>\n",
              "      <td>-1.432</td>\n",
              "      <td>...</td>\n",
              "      <td>2.184</td>\n",
              "      <td>-1.090</td>\n",
              "      <td>0.216</td>\n",
              "      <td>1.186</td>\n",
              "      <td>-0.143</td>\n",
              "      <td>0.322</td>\n",
              "      <td>-0.068</td>\n",
              "      <td>-0.156</td>\n",
              "      <td>-1.153</td>\n",
              "      <td>0.825</td>\n",
              "    </tr>\n",
              "    <tr>\n",
              "      <th>5</th>\n",
              "      <td>255</td>\n",
              "      <td>-1.650</td>\n",
              "      <td>-0.534</td>\n",
              "      <td>-1.056</td>\n",
              "      <td>2.040</td>\n",
              "      <td>1.479</td>\n",
              "      <td>-0.197</td>\n",
              "      <td>-0.441</td>\n",
              "      <td>-0.557</td>\n",
              "      <td>-0.241</td>\n",
              "      <td>...</td>\n",
              "      <td>-0.002</td>\n",
              "      <td>-0.687</td>\n",
              "      <td>0.894</td>\n",
              "      <td>1.187</td>\n",
              "      <td>-1.435</td>\n",
              "      <td>-1.290</td>\n",
              "      <td>-0.515</td>\n",
              "      <td>1.129</td>\n",
              "      <td>-0.823</td>\n",
              "      <td>0.411</td>\n",
              "    </tr>\n",
              "    <tr>\n",
              "      <th>6</th>\n",
              "      <td>256</td>\n",
              "      <td>0.096</td>\n",
              "      <td>0.794</td>\n",
              "      <td>-0.126</td>\n",
              "      <td>0.787</td>\n",
              "      <td>1.187</td>\n",
              "      <td>-0.611</td>\n",
              "      <td>1.383</td>\n",
              "      <td>-0.383</td>\n",
              "      <td>-1.934</td>\n",
              "      <td>...</td>\n",
              "      <td>-0.080</td>\n",
              "      <td>0.655</td>\n",
              "      <td>0.793</td>\n",
              "      <td>-1.809</td>\n",
              "      <td>-0.848</td>\n",
              "      <td>1.581</td>\n",
              "      <td>-0.257</td>\n",
              "      <td>-0.447</td>\n",
              "      <td>-0.560</td>\n",
              "      <td>2.340</td>\n",
              "    </tr>\n",
              "    <tr>\n",
              "      <th>7</th>\n",
              "      <td>257</td>\n",
              "      <td>-1.205</td>\n",
              "      <td>0.295</td>\n",
              "      <td>-0.221</td>\n",
              "      <td>0.840</td>\n",
              "      <td>1.545</td>\n",
              "      <td>-0.152</td>\n",
              "      <td>0.373</td>\n",
              "      <td>-0.349</td>\n",
              "      <td>-0.922</td>\n",
              "      <td>...</td>\n",
              "      <td>2.119</td>\n",
              "      <td>0.620</td>\n",
              "      <td>-0.019</td>\n",
              "      <td>-0.126</td>\n",
              "      <td>-0.864</td>\n",
              "      <td>-0.153</td>\n",
              "      <td>1.747</td>\n",
              "      <td>-0.388</td>\n",
              "      <td>0.946</td>\n",
              "      <td>0.065</td>\n",
              "    </tr>\n",
              "    <tr>\n",
              "      <th>8</th>\n",
              "      <td>258</td>\n",
              "      <td>-0.377</td>\n",
              "      <td>-1.135</td>\n",
              "      <td>-1.791</td>\n",
              "      <td>-0.642</td>\n",
              "      <td>0.353</td>\n",
              "      <td>-1.234</td>\n",
              "      <td>0.878</td>\n",
              "      <td>-2.155</td>\n",
              "      <td>-0.542</td>\n",
              "      <td>...</td>\n",
              "      <td>0.349</td>\n",
              "      <td>-0.180</td>\n",
              "      <td>0.728</td>\n",
              "      <td>0.101</td>\n",
              "      <td>-0.586</td>\n",
              "      <td>0.595</td>\n",
              "      <td>-1.374</td>\n",
              "      <td>0.129</td>\n",
              "      <td>-0.580</td>\n",
              "      <td>-0.687</td>\n",
              "    </tr>\n",
              "    <tr>\n",
              "      <th>9</th>\n",
              "      <td>259</td>\n",
              "      <td>-1.731</td>\n",
              "      <td>1.171</td>\n",
              "      <td>0.383</td>\n",
              "      <td>-1.039</td>\n",
              "      <td>-0.091</td>\n",
              "      <td>-0.076</td>\n",
              "      <td>0.244</td>\n",
              "      <td>-1.023</td>\n",
              "      <td>-0.876</td>\n",
              "      <td>...</td>\n",
              "      <td>-0.023</td>\n",
              "      <td>0.004</td>\n",
              "      <td>0.589</td>\n",
              "      <td>0.495</td>\n",
              "      <td>1.332</td>\n",
              "      <td>0.254</td>\n",
              "      <td>-0.002</td>\n",
              "      <td>0.657</td>\n",
              "      <td>-0.156</td>\n",
              "      <td>1.033</td>\n",
              "    </tr>\n",
              "  </tbody>\n",
              "</table>\n",
              "<p>10 rows × 301 columns</p>\n",
              "</div>"
            ],
            "text/plain": [
              "    id      0      1      2      3      4      5      6      7      8  ...    \\\n",
              "0  250  0.500 -1.033 -1.595  0.309 -0.714  0.502  0.535 -0.129 -0.687  ...     \n",
              "1  251  0.776  0.914 -0.494  1.347 -0.867  0.480  0.578 -0.313  0.203  ...     \n",
              "2  252  1.750  0.509 -0.057  0.835 -0.476  1.428 -0.701 -2.009 -1.378  ...     \n",
              "3  253 -0.556 -1.855 -0.682  0.578  1.592  0.512 -1.419  0.722  0.511  ...     \n",
              "4  254  0.754 -0.245  1.173 -1.623  0.009  0.370  0.781 -1.763 -1.432  ...     \n",
              "5  255 -1.650 -0.534 -1.056  2.040  1.479 -0.197 -0.441 -0.557 -0.241  ...     \n",
              "6  256  0.096  0.794 -0.126  0.787  1.187 -0.611  1.383 -0.383 -1.934  ...     \n",
              "7  257 -1.205  0.295 -0.221  0.840  1.545 -0.152  0.373 -0.349 -0.922  ...     \n",
              "8  258 -0.377 -1.135 -1.791 -0.642  0.353 -1.234  0.878 -2.155 -0.542  ...     \n",
              "9  259 -1.731  1.171  0.383 -1.039 -0.091 -0.076  0.244 -1.023 -0.876  ...     \n",
              "\n",
              "     290    291    292    293    294    295    296    297    298    299  \n",
              "0 -0.088 -2.628 -0.845  2.078 -0.277  2.132  0.609 -0.104  0.312  0.979  \n",
              "1 -0.683 -0.066  0.025  0.606 -0.353 -1.133 -3.138  0.281 -0.625 -0.761  \n",
              "2 -0.094  0.351 -0.607 -0.737 -0.031  0.701  0.976  0.135 -1.327  2.463  \n",
              "3 -0.336 -0.787  0.255 -0.031 -0.836  0.916  2.411  1.053 -1.601 -1.529  \n",
              "4  2.184 -1.090  0.216  1.186 -0.143  0.322 -0.068 -0.156 -1.153  0.825  \n",
              "5 -0.002 -0.687  0.894  1.187 -1.435 -1.290 -0.515  1.129 -0.823  0.411  \n",
              "6 -0.080  0.655  0.793 -1.809 -0.848  1.581 -0.257 -0.447 -0.560  2.340  \n",
              "7  2.119  0.620 -0.019 -0.126 -0.864 -0.153  1.747 -0.388  0.946  0.065  \n",
              "8  0.349 -0.180  0.728  0.101 -0.586  0.595 -1.374  0.129 -0.580 -0.687  \n",
              "9 -0.023  0.004  0.589  0.495  1.332  0.254 -0.002  0.657 -0.156  1.033  \n",
              "\n",
              "[10 rows x 301 columns]"
            ]
          },
          "metadata": {
            "tags": []
          },
          "execution_count": 56
        }
      ]
    },
    {
      "metadata": {
        "id": "xkWmrXDTdJlP",
        "colab_type": "code",
        "colab": {}
      },
      "cell_type": "code",
      "source": [
        ""
      ],
      "execution_count": 0,
      "outputs": []
    },
    {
      "metadata": {
        "id": "4kxGU7cEYC-e",
        "colab_type": "code",
        "colab": {}
      },
      "cell_type": "code",
      "source": [
        "x_test1 = test1.iloc[:, 1:]"
      ],
      "execution_count": 0,
      "outputs": []
    },
    {
      "metadata": {
        "id": "FgQMS6UI74ue",
        "colab_type": "code",
        "colab": {
          "base_uri": "https://localhost:8080/",
          "height": 33
        },
        "outputId": "2097e950-c87b-4f63-de62-8a7ee0811415"
      },
      "cell_type": "code",
      "source": [
        "x_test1.isnull().any().any()"
      ],
      "execution_count": 58,
      "outputs": [
        {
          "output_type": "execute_result",
          "data": {
            "text/plain": [
              "False"
            ]
          },
          "metadata": {
            "tags": []
          },
          "execution_count": 58
        }
      ]
    },
    {
      "metadata": {
        "id": "fJEDtOJxYJTn",
        "colab_type": "code",
        "outputId": "d882d5b3-02e1-4158-b867-7cc361897b6a",
        "colab": {
          "base_uri": "https://localhost:8080/",
          "height": 33
        }
      },
      "cell_type": "code",
      "source": [
        "x_test1.shape"
      ],
      "execution_count": 59,
      "outputs": [
        {
          "output_type": "execute_result",
          "data": {
            "text/plain": [
              "(19750, 300)"
            ]
          },
          "metadata": {
            "tags": []
          },
          "execution_count": 59
        }
      ]
    },
    {
      "metadata": {
        "id": "fK0LAtrpYLLU",
        "colab_type": "code",
        "colab": {}
      },
      "cell_type": "code",
      "source": [
        "y_test_pred = lr.predict(x_test1)"
      ],
      "execution_count": 0,
      "outputs": []
    },
    {
      "metadata": {
        "id": "XSu656AaYUWv",
        "colab_type": "code",
        "outputId": "e7a1f3e4-da4b-47a5-b749-5ab7d73516e7",
        "colab": {
          "base_uri": "https://localhost:8080/",
          "height": 33
        }
      },
      "cell_type": "code",
      "source": [
        "y_test_pred.shape"
      ],
      "execution_count": 61,
      "outputs": [
        {
          "output_type": "execute_result",
          "data": {
            "text/plain": [
              "(19750,)"
            ]
          },
          "metadata": {
            "tags": []
          },
          "execution_count": 61
        }
      ]
    },
    {
      "metadata": {
        "id": "sZvLHXJNYbTI",
        "colab_type": "code",
        "colab": {}
      },
      "cell_type": "code",
      "source": [
        "sample_sub = pd.read_csv('sample_submission.csv')"
      ],
      "execution_count": 0,
      "outputs": []
    },
    {
      "metadata": {
        "id": "RXSmDV-vYhkc",
        "colab_type": "code",
        "outputId": "e6dc3607-3270-4830-a664-a73db81b7315",
        "colab": {
          "base_uri": "https://localhost:8080/",
          "height": 33
        }
      },
      "cell_type": "code",
      "source": [
        "sample_sub.shape"
      ],
      "execution_count": 63,
      "outputs": [
        {
          "output_type": "execute_result",
          "data": {
            "text/plain": [
              "(19750, 2)"
            ]
          },
          "metadata": {
            "tags": []
          },
          "execution_count": 63
        }
      ]
    },
    {
      "metadata": {
        "id": "HuH2Tg4RYkOT",
        "colab_type": "code",
        "outputId": "4b9a6747-3f4c-412e-9de1-a3de0f4ac5bb",
        "colab": {
          "base_uri": "https://localhost:8080/",
          "height": 345
        }
      },
      "cell_type": "code",
      "source": [
        "sample_sub.head(10)"
      ],
      "execution_count": 64,
      "outputs": [
        {
          "output_type": "execute_result",
          "data": {
            "text/html": [
              "<div>\n",
              "<style scoped>\n",
              "    .dataframe tbody tr th:only-of-type {\n",
              "        vertical-align: middle;\n",
              "    }\n",
              "\n",
              "    .dataframe tbody tr th {\n",
              "        vertical-align: top;\n",
              "    }\n",
              "\n",
              "    .dataframe thead th {\n",
              "        text-align: right;\n",
              "    }\n",
              "</style>\n",
              "<table border=\"1\" class=\"dataframe\">\n",
              "  <thead>\n",
              "    <tr style=\"text-align: right;\">\n",
              "      <th></th>\n",
              "      <th>id</th>\n",
              "      <th>target</th>\n",
              "    </tr>\n",
              "  </thead>\n",
              "  <tbody>\n",
              "    <tr>\n",
              "      <th>0</th>\n",
              "      <td>250</td>\n",
              "      <td>0</td>\n",
              "    </tr>\n",
              "    <tr>\n",
              "      <th>1</th>\n",
              "      <td>251</td>\n",
              "      <td>0</td>\n",
              "    </tr>\n",
              "    <tr>\n",
              "      <th>2</th>\n",
              "      <td>252</td>\n",
              "      <td>0</td>\n",
              "    </tr>\n",
              "    <tr>\n",
              "      <th>3</th>\n",
              "      <td>253</td>\n",
              "      <td>0</td>\n",
              "    </tr>\n",
              "    <tr>\n",
              "      <th>4</th>\n",
              "      <td>254</td>\n",
              "      <td>0</td>\n",
              "    </tr>\n",
              "    <tr>\n",
              "      <th>5</th>\n",
              "      <td>255</td>\n",
              "      <td>0</td>\n",
              "    </tr>\n",
              "    <tr>\n",
              "      <th>6</th>\n",
              "      <td>256</td>\n",
              "      <td>0</td>\n",
              "    </tr>\n",
              "    <tr>\n",
              "      <th>7</th>\n",
              "      <td>257</td>\n",
              "      <td>0</td>\n",
              "    </tr>\n",
              "    <tr>\n",
              "      <th>8</th>\n",
              "      <td>258</td>\n",
              "      <td>0</td>\n",
              "    </tr>\n",
              "    <tr>\n",
              "      <th>9</th>\n",
              "      <td>259</td>\n",
              "      <td>0</td>\n",
              "    </tr>\n",
              "  </tbody>\n",
              "</table>\n",
              "</div>"
            ],
            "text/plain": [
              "    id  target\n",
              "0  250       0\n",
              "1  251       0\n",
              "2  252       0\n",
              "3  253       0\n",
              "4  254       0\n",
              "5  255       0\n",
              "6  256       0\n",
              "7  257       0\n",
              "8  258       0\n",
              "9  259       0"
            ]
          },
          "metadata": {
            "tags": []
          },
          "execution_count": 64
        }
      ]
    },
    {
      "metadata": {
        "id": "es3jGN4KYnte",
        "colab_type": "code",
        "colab": {}
      },
      "cell_type": "code",
      "source": [
        "sample_sub_y = sample_sub.iloc[:, 1]"
      ],
      "execution_count": 0,
      "outputs": []
    },
    {
      "metadata": {
        "id": "rnHMHATGYtWv",
        "colab_type": "code",
        "colab": {}
      },
      "cell_type": "code",
      "source": [
        "#from sklearn.metrics import accuracy_score, confusion_matrix\n",
        "\n",
        "#e = accuracy_score(y_test_pred,sample_sub_y)"
      ],
      "execution_count": 0,
      "outputs": []
    },
    {
      "metadata": {
        "id": "W8hDxITyZHhO",
        "colab_type": "code",
        "colab": {}
      },
      "cell_type": "code",
      "source": [
        "#e"
      ],
      "execution_count": 0,
      "outputs": []
    },
    {
      "metadata": {
        "id": "f3cj_tOWZIKg",
        "colab_type": "code",
        "colab": {}
      },
      "cell_type": "code",
      "source": [
        "#e1 = confusion_matrix(y_test_pred, sample_sub_y)"
      ],
      "execution_count": 0,
      "outputs": []
    },
    {
      "metadata": {
        "id": "21n694HQZuzN",
        "colab_type": "code",
        "colab": {}
      },
      "cell_type": "code",
      "source": [
        "#e1"
      ],
      "execution_count": 0,
      "outputs": []
    },
    {
      "metadata": {
        "id": "AV3oaiDCZvoR",
        "colab_type": "code",
        "colab": {}
      },
      "cell_type": "code",
      "source": [
        "#y_test_pred"
      ],
      "execution_count": 0,
      "outputs": []
    },
    {
      "metadata": {
        "id": "XXHx3foSZ3r-",
        "colab_type": "code",
        "colab": {}
      },
      "cell_type": "code",
      "source": [
        "#sample_sub_y"
      ],
      "execution_count": 0,
      "outputs": []
    },
    {
      "metadata": {
        "id": "s0gCy_QvaA1_",
        "colab_type": "code",
        "outputId": "e4a1e33a-8d07-44f5-85f7-a1c73b7bbec8",
        "colab": {
          "base_uri": "https://localhost:8080/",
          "height": 33
        }
      },
      "cell_type": "code",
      "source": [
        "sample_sub.columns"
      ],
      "execution_count": 66,
      "outputs": [
        {
          "output_type": "execute_result",
          "data": {
            "text/plain": [
              "Index(['id', 'target'], dtype='object')"
            ]
          },
          "metadata": {
            "tags": []
          },
          "execution_count": 66
        }
      ]
    },
    {
      "metadata": {
        "id": "E1XBhSTeaI-8",
        "colab_type": "code",
        "outputId": "3f56e8df-87e9-4ff8-999c-6f611fdcbcce",
        "colab": {
          "base_uri": "https://localhost:8080/",
          "height": 50
        }
      },
      "cell_type": "code",
      "source": [
        "sample_sub['target'].value_counts()"
      ],
      "execution_count": 67,
      "outputs": [
        {
          "output_type": "execute_result",
          "data": {
            "text/plain": [
              "0    19750\n",
              "Name: target, dtype: int64"
            ]
          },
          "metadata": {
            "tags": []
          },
          "execution_count": 67
        }
      ]
    },
    {
      "metadata": {
        "id": "slBh0WGIaP1N",
        "colab_type": "code",
        "colab": {}
      },
      "cell_type": "code",
      "source": [
        ""
      ],
      "execution_count": 0,
      "outputs": []
    },
    {
      "metadata": {
        "id": "LG4d1u_da_F2",
        "colab_type": "code",
        "colab": {}
      },
      "cell_type": "code",
      "source": [
        "sample_sub['target'] = y_test_pred"
      ],
      "execution_count": 0,
      "outputs": []
    },
    {
      "metadata": {
        "id": "iHEh1mc0f7n8",
        "colab_type": "code",
        "outputId": "48fdb42b-9e93-4358-f9db-5e4e5f88c070",
        "colab": {
          "base_uri": "https://localhost:8080/",
          "height": 1895
        }
      },
      "cell_type": "code",
      "source": [
        "sample_sub"
      ],
      "execution_count": 69,
      "outputs": [
        {
          "output_type": "execute_result",
          "data": {
            "text/html": [
              "<div>\n",
              "<style scoped>\n",
              "    .dataframe tbody tr th:only-of-type {\n",
              "        vertical-align: middle;\n",
              "    }\n",
              "\n",
              "    .dataframe tbody tr th {\n",
              "        vertical-align: top;\n",
              "    }\n",
              "\n",
              "    .dataframe thead th {\n",
              "        text-align: right;\n",
              "    }\n",
              "</style>\n",
              "<table border=\"1\" class=\"dataframe\">\n",
              "  <thead>\n",
              "    <tr style=\"text-align: right;\">\n",
              "      <th></th>\n",
              "      <th>id</th>\n",
              "      <th>target</th>\n",
              "    </tr>\n",
              "  </thead>\n",
              "  <tbody>\n",
              "    <tr>\n",
              "      <th>0</th>\n",
              "      <td>250</td>\n",
              "      <td>0.0</td>\n",
              "    </tr>\n",
              "    <tr>\n",
              "      <th>1</th>\n",
              "      <td>251</td>\n",
              "      <td>0.0</td>\n",
              "    </tr>\n",
              "    <tr>\n",
              "      <th>2</th>\n",
              "      <td>252</td>\n",
              "      <td>0.0</td>\n",
              "    </tr>\n",
              "    <tr>\n",
              "      <th>3</th>\n",
              "      <td>253</td>\n",
              "      <td>1.0</td>\n",
              "    </tr>\n",
              "    <tr>\n",
              "      <th>4</th>\n",
              "      <td>254</td>\n",
              "      <td>0.0</td>\n",
              "    </tr>\n",
              "    <tr>\n",
              "      <th>5</th>\n",
              "      <td>255</td>\n",
              "      <td>0.0</td>\n",
              "    </tr>\n",
              "    <tr>\n",
              "      <th>6</th>\n",
              "      <td>256</td>\n",
              "      <td>0.0</td>\n",
              "    </tr>\n",
              "    <tr>\n",
              "      <th>7</th>\n",
              "      <td>257</td>\n",
              "      <td>1.0</td>\n",
              "    </tr>\n",
              "    <tr>\n",
              "      <th>8</th>\n",
              "      <td>258</td>\n",
              "      <td>1.0</td>\n",
              "    </tr>\n",
              "    <tr>\n",
              "      <th>9</th>\n",
              "      <td>259</td>\n",
              "      <td>0.0</td>\n",
              "    </tr>\n",
              "    <tr>\n",
              "      <th>10</th>\n",
              "      <td>260</td>\n",
              "      <td>1.0</td>\n",
              "    </tr>\n",
              "    <tr>\n",
              "      <th>11</th>\n",
              "      <td>261</td>\n",
              "      <td>0.0</td>\n",
              "    </tr>\n",
              "    <tr>\n",
              "      <th>12</th>\n",
              "      <td>262</td>\n",
              "      <td>0.0</td>\n",
              "    </tr>\n",
              "    <tr>\n",
              "      <th>13</th>\n",
              "      <td>263</td>\n",
              "      <td>1.0</td>\n",
              "    </tr>\n",
              "    <tr>\n",
              "      <th>14</th>\n",
              "      <td>264</td>\n",
              "      <td>1.0</td>\n",
              "    </tr>\n",
              "    <tr>\n",
              "      <th>15</th>\n",
              "      <td>265</td>\n",
              "      <td>1.0</td>\n",
              "    </tr>\n",
              "    <tr>\n",
              "      <th>16</th>\n",
              "      <td>266</td>\n",
              "      <td>0.0</td>\n",
              "    </tr>\n",
              "    <tr>\n",
              "      <th>17</th>\n",
              "      <td>267</td>\n",
              "      <td>0.0</td>\n",
              "    </tr>\n",
              "    <tr>\n",
              "      <th>18</th>\n",
              "      <td>268</td>\n",
              "      <td>0.0</td>\n",
              "    </tr>\n",
              "    <tr>\n",
              "      <th>19</th>\n",
              "      <td>269</td>\n",
              "      <td>1.0</td>\n",
              "    </tr>\n",
              "    <tr>\n",
              "      <th>20</th>\n",
              "      <td>270</td>\n",
              "      <td>0.0</td>\n",
              "    </tr>\n",
              "    <tr>\n",
              "      <th>21</th>\n",
              "      <td>271</td>\n",
              "      <td>0.0</td>\n",
              "    </tr>\n",
              "    <tr>\n",
              "      <th>22</th>\n",
              "      <td>272</td>\n",
              "      <td>1.0</td>\n",
              "    </tr>\n",
              "    <tr>\n",
              "      <th>23</th>\n",
              "      <td>273</td>\n",
              "      <td>1.0</td>\n",
              "    </tr>\n",
              "    <tr>\n",
              "      <th>24</th>\n",
              "      <td>274</td>\n",
              "      <td>1.0</td>\n",
              "    </tr>\n",
              "    <tr>\n",
              "      <th>25</th>\n",
              "      <td>275</td>\n",
              "      <td>1.0</td>\n",
              "    </tr>\n",
              "    <tr>\n",
              "      <th>26</th>\n",
              "      <td>276</td>\n",
              "      <td>0.0</td>\n",
              "    </tr>\n",
              "    <tr>\n",
              "      <th>27</th>\n",
              "      <td>277</td>\n",
              "      <td>1.0</td>\n",
              "    </tr>\n",
              "    <tr>\n",
              "      <th>28</th>\n",
              "      <td>278</td>\n",
              "      <td>0.0</td>\n",
              "    </tr>\n",
              "    <tr>\n",
              "      <th>29</th>\n",
              "      <td>279</td>\n",
              "      <td>0.0</td>\n",
              "    </tr>\n",
              "    <tr>\n",
              "      <th>...</th>\n",
              "      <td>...</td>\n",
              "      <td>...</td>\n",
              "    </tr>\n",
              "    <tr>\n",
              "      <th>19720</th>\n",
              "      <td>19970</td>\n",
              "      <td>0.0</td>\n",
              "    </tr>\n",
              "    <tr>\n",
              "      <th>19721</th>\n",
              "      <td>19971</td>\n",
              "      <td>1.0</td>\n",
              "    </tr>\n",
              "    <tr>\n",
              "      <th>19722</th>\n",
              "      <td>19972</td>\n",
              "      <td>1.0</td>\n",
              "    </tr>\n",
              "    <tr>\n",
              "      <th>19723</th>\n",
              "      <td>19973</td>\n",
              "      <td>0.0</td>\n",
              "    </tr>\n",
              "    <tr>\n",
              "      <th>19724</th>\n",
              "      <td>19974</td>\n",
              "      <td>0.0</td>\n",
              "    </tr>\n",
              "    <tr>\n",
              "      <th>19725</th>\n",
              "      <td>19975</td>\n",
              "      <td>1.0</td>\n",
              "    </tr>\n",
              "    <tr>\n",
              "      <th>19726</th>\n",
              "      <td>19976</td>\n",
              "      <td>1.0</td>\n",
              "    </tr>\n",
              "    <tr>\n",
              "      <th>19727</th>\n",
              "      <td>19977</td>\n",
              "      <td>1.0</td>\n",
              "    </tr>\n",
              "    <tr>\n",
              "      <th>19728</th>\n",
              "      <td>19978</td>\n",
              "      <td>1.0</td>\n",
              "    </tr>\n",
              "    <tr>\n",
              "      <th>19729</th>\n",
              "      <td>19979</td>\n",
              "      <td>1.0</td>\n",
              "    </tr>\n",
              "    <tr>\n",
              "      <th>19730</th>\n",
              "      <td>19980</td>\n",
              "      <td>0.0</td>\n",
              "    </tr>\n",
              "    <tr>\n",
              "      <th>19731</th>\n",
              "      <td>19981</td>\n",
              "      <td>0.0</td>\n",
              "    </tr>\n",
              "    <tr>\n",
              "      <th>19732</th>\n",
              "      <td>19982</td>\n",
              "      <td>1.0</td>\n",
              "    </tr>\n",
              "    <tr>\n",
              "      <th>19733</th>\n",
              "      <td>19983</td>\n",
              "      <td>1.0</td>\n",
              "    </tr>\n",
              "    <tr>\n",
              "      <th>19734</th>\n",
              "      <td>19984</td>\n",
              "      <td>1.0</td>\n",
              "    </tr>\n",
              "    <tr>\n",
              "      <th>19735</th>\n",
              "      <td>19985</td>\n",
              "      <td>0.0</td>\n",
              "    </tr>\n",
              "    <tr>\n",
              "      <th>19736</th>\n",
              "      <td>19986</td>\n",
              "      <td>0.0</td>\n",
              "    </tr>\n",
              "    <tr>\n",
              "      <th>19737</th>\n",
              "      <td>19987</td>\n",
              "      <td>1.0</td>\n",
              "    </tr>\n",
              "    <tr>\n",
              "      <th>19738</th>\n",
              "      <td>19988</td>\n",
              "      <td>1.0</td>\n",
              "    </tr>\n",
              "    <tr>\n",
              "      <th>19739</th>\n",
              "      <td>19989</td>\n",
              "      <td>1.0</td>\n",
              "    </tr>\n",
              "    <tr>\n",
              "      <th>19740</th>\n",
              "      <td>19990</td>\n",
              "      <td>0.0</td>\n",
              "    </tr>\n",
              "    <tr>\n",
              "      <th>19741</th>\n",
              "      <td>19991</td>\n",
              "      <td>1.0</td>\n",
              "    </tr>\n",
              "    <tr>\n",
              "      <th>19742</th>\n",
              "      <td>19992</td>\n",
              "      <td>1.0</td>\n",
              "    </tr>\n",
              "    <tr>\n",
              "      <th>19743</th>\n",
              "      <td>19993</td>\n",
              "      <td>0.0</td>\n",
              "    </tr>\n",
              "    <tr>\n",
              "      <th>19744</th>\n",
              "      <td>19994</td>\n",
              "      <td>1.0</td>\n",
              "    </tr>\n",
              "    <tr>\n",
              "      <th>19745</th>\n",
              "      <td>19995</td>\n",
              "      <td>1.0</td>\n",
              "    </tr>\n",
              "    <tr>\n",
              "      <th>19746</th>\n",
              "      <td>19996</td>\n",
              "      <td>1.0</td>\n",
              "    </tr>\n",
              "    <tr>\n",
              "      <th>19747</th>\n",
              "      <td>19997</td>\n",
              "      <td>1.0</td>\n",
              "    </tr>\n",
              "    <tr>\n",
              "      <th>19748</th>\n",
              "      <td>19998</td>\n",
              "      <td>1.0</td>\n",
              "    </tr>\n",
              "    <tr>\n",
              "      <th>19749</th>\n",
              "      <td>19999</td>\n",
              "      <td>0.0</td>\n",
              "    </tr>\n",
              "  </tbody>\n",
              "</table>\n",
              "<p>19750 rows × 2 columns</p>\n",
              "</div>"
            ],
            "text/plain": [
              "          id  target\n",
              "0        250     0.0\n",
              "1        251     0.0\n",
              "2        252     0.0\n",
              "3        253     1.0\n",
              "4        254     0.0\n",
              "5        255     0.0\n",
              "6        256     0.0\n",
              "7        257     1.0\n",
              "8        258     1.0\n",
              "9        259     0.0\n",
              "10       260     1.0\n",
              "11       261     0.0\n",
              "12       262     0.0\n",
              "13       263     1.0\n",
              "14       264     1.0\n",
              "15       265     1.0\n",
              "16       266     0.0\n",
              "17       267     0.0\n",
              "18       268     0.0\n",
              "19       269     1.0\n",
              "20       270     0.0\n",
              "21       271     0.0\n",
              "22       272     1.0\n",
              "23       273     1.0\n",
              "24       274     1.0\n",
              "25       275     1.0\n",
              "26       276     0.0\n",
              "27       277     1.0\n",
              "28       278     0.0\n",
              "29       279     0.0\n",
              "...      ...     ...\n",
              "19720  19970     0.0\n",
              "19721  19971     1.0\n",
              "19722  19972     1.0\n",
              "19723  19973     0.0\n",
              "19724  19974     0.0\n",
              "19725  19975     1.0\n",
              "19726  19976     1.0\n",
              "19727  19977     1.0\n",
              "19728  19978     1.0\n",
              "19729  19979     1.0\n",
              "19730  19980     0.0\n",
              "19731  19981     0.0\n",
              "19732  19982     1.0\n",
              "19733  19983     1.0\n",
              "19734  19984     1.0\n",
              "19735  19985     0.0\n",
              "19736  19986     0.0\n",
              "19737  19987     1.0\n",
              "19738  19988     1.0\n",
              "19739  19989     1.0\n",
              "19740  19990     0.0\n",
              "19741  19991     1.0\n",
              "19742  19992     1.0\n",
              "19743  19993     0.0\n",
              "19744  19994     1.0\n",
              "19745  19995     1.0\n",
              "19746  19996     1.0\n",
              "19747  19997     1.0\n",
              "19748  19998     1.0\n",
              "19749  19999     0.0\n",
              "\n",
              "[19750 rows x 2 columns]"
            ]
          },
          "metadata": {
            "tags": []
          },
          "execution_count": 69
        }
      ]
    },
    {
      "metadata": {
        "id": "Ls_SOLCWf_Jf",
        "colab_type": "code",
        "outputId": "46fcfbd5-42ee-4b1d-99ce-111194f83a61",
        "colab": {
          "base_uri": "https://localhost:8080/",
          "height": 268
        }
      },
      "cell_type": "code",
      "source": [
        "y"
      ],
      "execution_count": 70,
      "outputs": [
        {
          "output_type": "execute_result",
          "data": {
            "text/plain": [
              "array([1., 0., 1., 1., 1., 1., 1., 1., 1., 1., 0., 1., 1., 0., 0., 1., 1.,\n",
              "       0., 1., 1., 1., 1., 0., 1., 1., 1., 1., 1., 1., 1., 1., 1., 1., 1.,\n",
              "       1., 1., 1., 1., 0., 1., 1., 1., 1., 0., 1., 1., 1., 1., 0., 0., 1.,\n",
              "       1., 0., 1., 0., 1., 0., 1., 0., 0., 1., 1., 0., 0., 0., 1., 0., 1.,\n",
              "       1., 1., 0., 1., 1., 1., 1., 0., 1., 1., 0., 1., 1., 0., 0., 1., 1.,\n",
              "       1., 0., 1., 1., 1., 1., 0., 1., 1., 1., 1., 0., 1., 1., 1., 1., 0.,\n",
              "       0., 1., 0., 1., 1., 0., 0., 1., 1., 1., 1., 1., 0., 1., 1., 0., 0.,\n",
              "       1., 0., 1., 0., 1., 0., 1., 0., 0., 0., 1., 1., 1., 1., 1., 0., 1.,\n",
              "       0., 1., 1., 0., 1., 0., 1., 0., 1., 1., 1., 1., 0., 1., 0., 1., 1.,\n",
              "       0., 0., 1., 1., 0., 0., 1., 1., 0., 1., 1., 0., 1., 1., 1., 0., 0.,\n",
              "       0., 0., 0., 1., 1., 1., 1., 0., 0., 1., 1., 0., 0., 0., 1., 1., 1.,\n",
              "       1., 1., 0., 1., 1., 1., 0., 0., 1., 1., 1., 0., 1., 1., 0., 1., 1.,\n",
              "       1., 0., 1., 0., 1., 0., 0., 0., 0., 1., 1., 0., 1., 1., 0., 1., 1.,\n",
              "       1., 1., 1., 1., 0., 1., 0., 0., 1., 1., 1., 1., 0., 0., 1., 1., 1.,\n",
              "       1., 0., 0., 1., 1., 0., 0., 0., 0., 0., 1., 0.])"
            ]
          },
          "metadata": {
            "tags": []
          },
          "execution_count": 70
        }
      ]
    },
    {
      "metadata": {
        "id": "lawXYF6lh1pz",
        "colab_type": "code",
        "outputId": "1b05815c-af03-460c-ac69-4a6302794610",
        "colab": {
          "base_uri": "https://localhost:8080/",
          "height": 117
        }
      },
      "cell_type": "code",
      "source": [
        "from sklearn.ensemble import RandomForestClassifier\n",
        "\n",
        "rf = RandomForestClassifier(n_estimators = 30, criterion = 'entropy', max_depth = 3, random_state = 0)\n",
        "\n",
        "rf.fit(x, y)"
      ],
      "execution_count": 71,
      "outputs": [
        {
          "output_type": "execute_result",
          "data": {
            "text/plain": [
              "RandomForestClassifier(bootstrap=True, class_weight=None, criterion='entropy',\n",
              "            max_depth=3, max_features='auto', max_leaf_nodes=None,\n",
              "            min_impurity_decrease=0.0, min_impurity_split=None,\n",
              "            min_samples_leaf=1, min_samples_split=2,\n",
              "            min_weight_fraction_leaf=0.0, n_estimators=30, n_jobs=None,\n",
              "            oob_score=False, random_state=0, verbose=0, warm_start=False)"
            ]
          },
          "metadata": {
            "tags": []
          },
          "execution_count": 71
        }
      ]
    },
    {
      "metadata": {
        "id": "dYXahrs-6CCS",
        "colab_type": "code",
        "colab": {}
      },
      "cell_type": "code",
      "source": [
        "y_test_pred_rf = rf.predict(x_test1)"
      ],
      "execution_count": 0,
      "outputs": []
    },
    {
      "metadata": {
        "id": "qnM6_BPy6VGl",
        "colab_type": "code",
        "colab": {}
      },
      "cell_type": "code",
      "source": [
        "sample_sub['target'] = y_test_pred_rf"
      ],
      "execution_count": 0,
      "outputs": []
    },
    {
      "metadata": {
        "id": "YwbETmOx6cTV",
        "colab_type": "code",
        "outputId": "580e92e2-25c3-407b-b5f0-a6fed8ae95aa",
        "colab": {
          "base_uri": "https://localhost:8080/",
          "height": 33
        }
      },
      "cell_type": "code",
      "source": [
        "y_test_pred_rf"
      ],
      "execution_count": 74,
      "outputs": [
        {
          "output_type": "execute_result",
          "data": {
            "text/plain": [
              "array([1., 1., 1., ..., 1., 1., 1.])"
            ]
          },
          "metadata": {
            "tags": []
          },
          "execution_count": 74
        }
      ]
    },
    {
      "metadata": {
        "id": "asJrbv3l6ekL",
        "colab_type": "code",
        "outputId": "857849d1-de33-4a25-f1cc-ed8f6f9392f1",
        "colab": {
          "base_uri": "https://localhost:8080/",
          "height": 67
        }
      },
      "cell_type": "code",
      "source": [
        "sample_sub['target'].value_counts()"
      ],
      "execution_count": 75,
      "outputs": [
        {
          "output_type": "execute_result",
          "data": {
            "text/plain": [
              "1.0    19406\n",
              "0.0      344\n",
              "Name: target, dtype: int64"
            ]
          },
          "metadata": {
            "tags": []
          },
          "execution_count": 75
        }
      ]
    },
    {
      "metadata": {
        "id": "2c0H3Af66kdG",
        "colab_type": "code",
        "outputId": "ee0c9463-1fb8-4900-cf52-59e30792a854",
        "colab": {
          "base_uri": "https://localhost:8080/",
          "height": 1895
        }
      },
      "cell_type": "code",
      "source": [
        "sample_sub"
      ],
      "execution_count": 76,
      "outputs": [
        {
          "output_type": "execute_result",
          "data": {
            "text/html": [
              "<div>\n",
              "<style scoped>\n",
              "    .dataframe tbody tr th:only-of-type {\n",
              "        vertical-align: middle;\n",
              "    }\n",
              "\n",
              "    .dataframe tbody tr th {\n",
              "        vertical-align: top;\n",
              "    }\n",
              "\n",
              "    .dataframe thead th {\n",
              "        text-align: right;\n",
              "    }\n",
              "</style>\n",
              "<table border=\"1\" class=\"dataframe\">\n",
              "  <thead>\n",
              "    <tr style=\"text-align: right;\">\n",
              "      <th></th>\n",
              "      <th>id</th>\n",
              "      <th>target</th>\n",
              "    </tr>\n",
              "  </thead>\n",
              "  <tbody>\n",
              "    <tr>\n",
              "      <th>0</th>\n",
              "      <td>250</td>\n",
              "      <td>1.0</td>\n",
              "    </tr>\n",
              "    <tr>\n",
              "      <th>1</th>\n",
              "      <td>251</td>\n",
              "      <td>1.0</td>\n",
              "    </tr>\n",
              "    <tr>\n",
              "      <th>2</th>\n",
              "      <td>252</td>\n",
              "      <td>1.0</td>\n",
              "    </tr>\n",
              "    <tr>\n",
              "      <th>3</th>\n",
              "      <td>253</td>\n",
              "      <td>1.0</td>\n",
              "    </tr>\n",
              "    <tr>\n",
              "      <th>4</th>\n",
              "      <td>254</td>\n",
              "      <td>1.0</td>\n",
              "    </tr>\n",
              "    <tr>\n",
              "      <th>5</th>\n",
              "      <td>255</td>\n",
              "      <td>1.0</td>\n",
              "    </tr>\n",
              "    <tr>\n",
              "      <th>6</th>\n",
              "      <td>256</td>\n",
              "      <td>1.0</td>\n",
              "    </tr>\n",
              "    <tr>\n",
              "      <th>7</th>\n",
              "      <td>257</td>\n",
              "      <td>1.0</td>\n",
              "    </tr>\n",
              "    <tr>\n",
              "      <th>8</th>\n",
              "      <td>258</td>\n",
              "      <td>1.0</td>\n",
              "    </tr>\n",
              "    <tr>\n",
              "      <th>9</th>\n",
              "      <td>259</td>\n",
              "      <td>1.0</td>\n",
              "    </tr>\n",
              "    <tr>\n",
              "      <th>10</th>\n",
              "      <td>260</td>\n",
              "      <td>1.0</td>\n",
              "    </tr>\n",
              "    <tr>\n",
              "      <th>11</th>\n",
              "      <td>261</td>\n",
              "      <td>1.0</td>\n",
              "    </tr>\n",
              "    <tr>\n",
              "      <th>12</th>\n",
              "      <td>262</td>\n",
              "      <td>1.0</td>\n",
              "    </tr>\n",
              "    <tr>\n",
              "      <th>13</th>\n",
              "      <td>263</td>\n",
              "      <td>1.0</td>\n",
              "    </tr>\n",
              "    <tr>\n",
              "      <th>14</th>\n",
              "      <td>264</td>\n",
              "      <td>1.0</td>\n",
              "    </tr>\n",
              "    <tr>\n",
              "      <th>15</th>\n",
              "      <td>265</td>\n",
              "      <td>1.0</td>\n",
              "    </tr>\n",
              "    <tr>\n",
              "      <th>16</th>\n",
              "      <td>266</td>\n",
              "      <td>1.0</td>\n",
              "    </tr>\n",
              "    <tr>\n",
              "      <th>17</th>\n",
              "      <td>267</td>\n",
              "      <td>0.0</td>\n",
              "    </tr>\n",
              "    <tr>\n",
              "      <th>18</th>\n",
              "      <td>268</td>\n",
              "      <td>1.0</td>\n",
              "    </tr>\n",
              "    <tr>\n",
              "      <th>19</th>\n",
              "      <td>269</td>\n",
              "      <td>1.0</td>\n",
              "    </tr>\n",
              "    <tr>\n",
              "      <th>20</th>\n",
              "      <td>270</td>\n",
              "      <td>1.0</td>\n",
              "    </tr>\n",
              "    <tr>\n",
              "      <th>21</th>\n",
              "      <td>271</td>\n",
              "      <td>1.0</td>\n",
              "    </tr>\n",
              "    <tr>\n",
              "      <th>22</th>\n",
              "      <td>272</td>\n",
              "      <td>1.0</td>\n",
              "    </tr>\n",
              "    <tr>\n",
              "      <th>23</th>\n",
              "      <td>273</td>\n",
              "      <td>1.0</td>\n",
              "    </tr>\n",
              "    <tr>\n",
              "      <th>24</th>\n",
              "      <td>274</td>\n",
              "      <td>1.0</td>\n",
              "    </tr>\n",
              "    <tr>\n",
              "      <th>25</th>\n",
              "      <td>275</td>\n",
              "      <td>1.0</td>\n",
              "    </tr>\n",
              "    <tr>\n",
              "      <th>26</th>\n",
              "      <td>276</td>\n",
              "      <td>0.0</td>\n",
              "    </tr>\n",
              "    <tr>\n",
              "      <th>27</th>\n",
              "      <td>277</td>\n",
              "      <td>1.0</td>\n",
              "    </tr>\n",
              "    <tr>\n",
              "      <th>28</th>\n",
              "      <td>278</td>\n",
              "      <td>1.0</td>\n",
              "    </tr>\n",
              "    <tr>\n",
              "      <th>29</th>\n",
              "      <td>279</td>\n",
              "      <td>1.0</td>\n",
              "    </tr>\n",
              "    <tr>\n",
              "      <th>...</th>\n",
              "      <td>...</td>\n",
              "      <td>...</td>\n",
              "    </tr>\n",
              "    <tr>\n",
              "      <th>19720</th>\n",
              "      <td>19970</td>\n",
              "      <td>1.0</td>\n",
              "    </tr>\n",
              "    <tr>\n",
              "      <th>19721</th>\n",
              "      <td>19971</td>\n",
              "      <td>1.0</td>\n",
              "    </tr>\n",
              "    <tr>\n",
              "      <th>19722</th>\n",
              "      <td>19972</td>\n",
              "      <td>1.0</td>\n",
              "    </tr>\n",
              "    <tr>\n",
              "      <th>19723</th>\n",
              "      <td>19973</td>\n",
              "      <td>1.0</td>\n",
              "    </tr>\n",
              "    <tr>\n",
              "      <th>19724</th>\n",
              "      <td>19974</td>\n",
              "      <td>1.0</td>\n",
              "    </tr>\n",
              "    <tr>\n",
              "      <th>19725</th>\n",
              "      <td>19975</td>\n",
              "      <td>1.0</td>\n",
              "    </tr>\n",
              "    <tr>\n",
              "      <th>19726</th>\n",
              "      <td>19976</td>\n",
              "      <td>1.0</td>\n",
              "    </tr>\n",
              "    <tr>\n",
              "      <th>19727</th>\n",
              "      <td>19977</td>\n",
              "      <td>1.0</td>\n",
              "    </tr>\n",
              "    <tr>\n",
              "      <th>19728</th>\n",
              "      <td>19978</td>\n",
              "      <td>1.0</td>\n",
              "    </tr>\n",
              "    <tr>\n",
              "      <th>19729</th>\n",
              "      <td>19979</td>\n",
              "      <td>1.0</td>\n",
              "    </tr>\n",
              "    <tr>\n",
              "      <th>19730</th>\n",
              "      <td>19980</td>\n",
              "      <td>1.0</td>\n",
              "    </tr>\n",
              "    <tr>\n",
              "      <th>19731</th>\n",
              "      <td>19981</td>\n",
              "      <td>1.0</td>\n",
              "    </tr>\n",
              "    <tr>\n",
              "      <th>19732</th>\n",
              "      <td>19982</td>\n",
              "      <td>1.0</td>\n",
              "    </tr>\n",
              "    <tr>\n",
              "      <th>19733</th>\n",
              "      <td>19983</td>\n",
              "      <td>1.0</td>\n",
              "    </tr>\n",
              "    <tr>\n",
              "      <th>19734</th>\n",
              "      <td>19984</td>\n",
              "      <td>1.0</td>\n",
              "    </tr>\n",
              "    <tr>\n",
              "      <th>19735</th>\n",
              "      <td>19985</td>\n",
              "      <td>1.0</td>\n",
              "    </tr>\n",
              "    <tr>\n",
              "      <th>19736</th>\n",
              "      <td>19986</td>\n",
              "      <td>1.0</td>\n",
              "    </tr>\n",
              "    <tr>\n",
              "      <th>19737</th>\n",
              "      <td>19987</td>\n",
              "      <td>1.0</td>\n",
              "    </tr>\n",
              "    <tr>\n",
              "      <th>19738</th>\n",
              "      <td>19988</td>\n",
              "      <td>1.0</td>\n",
              "    </tr>\n",
              "    <tr>\n",
              "      <th>19739</th>\n",
              "      <td>19989</td>\n",
              "      <td>1.0</td>\n",
              "    </tr>\n",
              "    <tr>\n",
              "      <th>19740</th>\n",
              "      <td>19990</td>\n",
              "      <td>1.0</td>\n",
              "    </tr>\n",
              "    <tr>\n",
              "      <th>19741</th>\n",
              "      <td>19991</td>\n",
              "      <td>1.0</td>\n",
              "    </tr>\n",
              "    <tr>\n",
              "      <th>19742</th>\n",
              "      <td>19992</td>\n",
              "      <td>1.0</td>\n",
              "    </tr>\n",
              "    <tr>\n",
              "      <th>19743</th>\n",
              "      <td>19993</td>\n",
              "      <td>1.0</td>\n",
              "    </tr>\n",
              "    <tr>\n",
              "      <th>19744</th>\n",
              "      <td>19994</td>\n",
              "      <td>1.0</td>\n",
              "    </tr>\n",
              "    <tr>\n",
              "      <th>19745</th>\n",
              "      <td>19995</td>\n",
              "      <td>1.0</td>\n",
              "    </tr>\n",
              "    <tr>\n",
              "      <th>19746</th>\n",
              "      <td>19996</td>\n",
              "      <td>1.0</td>\n",
              "    </tr>\n",
              "    <tr>\n",
              "      <th>19747</th>\n",
              "      <td>19997</td>\n",
              "      <td>1.0</td>\n",
              "    </tr>\n",
              "    <tr>\n",
              "      <th>19748</th>\n",
              "      <td>19998</td>\n",
              "      <td>1.0</td>\n",
              "    </tr>\n",
              "    <tr>\n",
              "      <th>19749</th>\n",
              "      <td>19999</td>\n",
              "      <td>1.0</td>\n",
              "    </tr>\n",
              "  </tbody>\n",
              "</table>\n",
              "<p>19750 rows × 2 columns</p>\n",
              "</div>"
            ],
            "text/plain": [
              "          id  target\n",
              "0        250     1.0\n",
              "1        251     1.0\n",
              "2        252     1.0\n",
              "3        253     1.0\n",
              "4        254     1.0\n",
              "5        255     1.0\n",
              "6        256     1.0\n",
              "7        257     1.0\n",
              "8        258     1.0\n",
              "9        259     1.0\n",
              "10       260     1.0\n",
              "11       261     1.0\n",
              "12       262     1.0\n",
              "13       263     1.0\n",
              "14       264     1.0\n",
              "15       265     1.0\n",
              "16       266     1.0\n",
              "17       267     0.0\n",
              "18       268     1.0\n",
              "19       269     1.0\n",
              "20       270     1.0\n",
              "21       271     1.0\n",
              "22       272     1.0\n",
              "23       273     1.0\n",
              "24       274     1.0\n",
              "25       275     1.0\n",
              "26       276     0.0\n",
              "27       277     1.0\n",
              "28       278     1.0\n",
              "29       279     1.0\n",
              "...      ...     ...\n",
              "19720  19970     1.0\n",
              "19721  19971     1.0\n",
              "19722  19972     1.0\n",
              "19723  19973     1.0\n",
              "19724  19974     1.0\n",
              "19725  19975     1.0\n",
              "19726  19976     1.0\n",
              "19727  19977     1.0\n",
              "19728  19978     1.0\n",
              "19729  19979     1.0\n",
              "19730  19980     1.0\n",
              "19731  19981     1.0\n",
              "19732  19982     1.0\n",
              "19733  19983     1.0\n",
              "19734  19984     1.0\n",
              "19735  19985     1.0\n",
              "19736  19986     1.0\n",
              "19737  19987     1.0\n",
              "19738  19988     1.0\n",
              "19739  19989     1.0\n",
              "19740  19990     1.0\n",
              "19741  19991     1.0\n",
              "19742  19992     1.0\n",
              "19743  19993     1.0\n",
              "19744  19994     1.0\n",
              "19745  19995     1.0\n",
              "19746  19996     1.0\n",
              "19747  19997     1.0\n",
              "19748  19998     1.0\n",
              "19749  19999     1.0\n",
              "\n",
              "[19750 rows x 2 columns]"
            ]
          },
          "metadata": {
            "tags": []
          },
          "execution_count": 76
        }
      ]
    },
    {
      "metadata": {
        "id": "9KjtXQ3f7jMy",
        "colab_type": "code",
        "colab": {}
      },
      "cell_type": "code",
      "source": [
        "listdf = list(sample_sub)"
      ],
      "execution_count": 0,
      "outputs": []
    },
    {
      "metadata": {
        "id": "DUY3LDw89Fjw",
        "colab_type": "code",
        "colab": {}
      },
      "cell_type": "code",
      "source": [
        "#sending df to the csv file \n",
        "import csv\n",
        "\n",
        "sample_sub.to_csv('sample_submission.csv')"
      ],
      "execution_count": 0,
      "outputs": []
    },
    {
      "metadata": {
        "id": "jopWZfQ39qTz",
        "colab_type": "code",
        "colab": {}
      },
      "cell_type": "code",
      "source": [
        "import os\n",
        "cwd = os.getcwd()"
      ],
      "execution_count": 0,
      "outputs": []
    },
    {
      "metadata": {
        "id": "fIdRdoYwAjmU",
        "colab_type": "code",
        "outputId": "03a0e21c-0a28-4099-8b36-99f649fb43a2",
        "colab": {
          "base_uri": "https://localhost:8080/",
          "height": 33
        }
      },
      "cell_type": "code",
      "source": [
        "cwd"
      ],
      "execution_count": 0,
      "outputs": [
        {
          "output_type": "execute_result",
          "data": {
            "text/plain": [
              "'/content'"
            ]
          },
          "metadata": {
            "tags": []
          },
          "execution_count": 54
        }
      ]
    },
    {
      "metadata": {
        "id": "7RV0T680AlCd",
        "colab_type": "code",
        "colab": {}
      },
      "cell_type": "code",
      "source": [
        "importance = rf.feature_importances_"
      ],
      "execution_count": 0,
      "outputs": []
    },
    {
      "metadata": {
        "id": "ffcfnR_pDu5d",
        "colab_type": "code",
        "outputId": "4e9b235e-0366-45a4-ed83-a92696f0cbdb",
        "colab": {
          "base_uri": "https://localhost:8080/",
          "height": 1020
        }
      },
      "cell_type": "code",
      "source": [
        "importance"
      ],
      "execution_count": 80,
      "outputs": [
        {
          "output_type": "execute_result",
          "data": {
            "text/plain": [
              "array([0.        , 0.        , 0.        , 0.        , 0.        ,\n",
              "       0.        , 0.01833865, 0.        , 0.        , 0.        ,\n",
              "       0.        , 0.        , 0.        , 0.00246105, 0.01315259,\n",
              "       0.        , 0.        , 0.        , 0.        , 0.00438519,\n",
              "       0.        , 0.        , 0.        , 0.        , 0.00885409,\n",
              "       0.00588996, 0.00893043, 0.        , 0.00696159, 0.00269443,\n",
              "       0.        , 0.00552157, 0.00544852, 0.01728753, 0.        ,\n",
              "       0.        , 0.        , 0.        , 0.00681021, 0.01777574,\n",
              "       0.01376213, 0.        , 0.        , 0.01379745, 0.        ,\n",
              "       0.        , 0.        , 0.        , 0.        , 0.        ,\n",
              "       0.        , 0.00437625, 0.        , 0.00883919, 0.        ,\n",
              "       0.        , 0.01569768, 0.0090626 , 0.        , 0.        ,\n",
              "       0.        , 0.        , 0.0099688 , 0.00500553, 0.        ,\n",
              "       0.04504782, 0.        , 0.        , 0.        , 0.        ,\n",
              "       0.        , 0.0082949 , 0.        , 0.        , 0.        ,\n",
              "       0.        , 0.        , 0.00873681, 0.        , 0.        ,\n",
              "       0.00693863, 0.        , 0.01711698, 0.00380927, 0.00278103,\n",
              "       0.        , 0.0045702 , 0.        , 0.        , 0.        ,\n",
              "       0.00920733, 0.01727951, 0.        , 0.00883075, 0.0087373 ,\n",
              "       0.        , 0.01627124, 0.00167393, 0.        , 0.        ,\n",
              "       0.00379501, 0.        , 0.        , 0.0085341 , 0.        ,\n",
              "       0.01981867, 0.00428452, 0.        , 0.0069617 , 0.        ,\n",
              "       0.        , 0.00373843, 0.        , 0.        , 0.        ,\n",
              "       0.01069374, 0.00375835, 0.04018498, 0.        , 0.00775611,\n",
              "       0.        , 0.        , 0.        , 0.        , 0.        ,\n",
              "       0.        , 0.01469671, 0.00935048, 0.00685645, 0.00801548,\n",
              "       0.        , 0.        , 0.        , 0.00681303, 0.        ,\n",
              "       0.        , 0.        , 0.        , 0.        , 0.01231197,\n",
              "       0.        , 0.00824155, 0.        , 0.        , 0.00597832,\n",
              "       0.        , 0.        , 0.        , 0.        , 0.        ,\n",
              "       0.00532926, 0.        , 0.        , 0.00157552, 0.        ,\n",
              "       0.        , 0.        , 0.        , 0.        , 0.        ,\n",
              "       0.        , 0.00405432, 0.        , 0.        , 0.00458751,\n",
              "       0.00416951, 0.00467212, 0.        , 0.        , 0.        ,\n",
              "       0.        , 0.        , 0.        , 0.00954774, 0.        ,\n",
              "       0.        , 0.        , 0.00246833, 0.        , 0.        ,\n",
              "       0.0125264 , 0.00258299, 0.00373043, 0.        , 0.0098446 ,\n",
              "       0.00410015, 0.00641955, 0.        , 0.        , 0.00725892,\n",
              "       0.        , 0.        , 0.        , 0.        , 0.00944112,\n",
              "       0.00242082, 0.        , 0.00139352, 0.        , 0.        ,\n",
              "       0.        , 0.01521532, 0.        , 0.        , 0.00696992,\n",
              "       0.        , 0.        , 0.00361083, 0.        , 0.00833915,\n",
              "       0.        , 0.        , 0.        , 0.        , 0.01641596,\n",
              "       0.        , 0.        , 0.01688354, 0.        , 0.        ,\n",
              "       0.        , 0.        , 0.        , 0.        , 0.00098554,\n",
              "       0.        , 0.        , 0.01481926, 0.        , 0.00602983,\n",
              "       0.00401504, 0.01461221, 0.        , 0.        , 0.        ,\n",
              "       0.        , 0.        , 0.03165431, 0.00396152, 0.        ,\n",
              "       0.01250066, 0.01447913, 0.01181835, 0.00299533, 0.01059405,\n",
              "       0.        , 0.01094305, 0.        , 0.00416518, 0.0049274 ,\n",
              "       0.        , 0.00822982, 0.01334203, 0.        , 0.00290106,\n",
              "       0.        , 0.        , 0.        , 0.01350387, 0.        ,\n",
              "       0.        , 0.        , 0.00225276, 0.        , 0.        ,\n",
              "       0.        , 0.00780592, 0.        , 0.01052493, 0.01018725,\n",
              "       0.        , 0.        , 0.00269791, 0.        , 0.        ,\n",
              "       0.00809937, 0.        , 0.01134206, 0.        , 0.01117627,\n",
              "       0.        , 0.00360946, 0.        , 0.        , 0.        ,\n",
              "       0.        , 0.00263624, 0.        , 0.0046582 , 0.00459125,\n",
              "       0.        , 0.        , 0.00578373, 0.        , 0.00340518,\n",
              "       0.        , 0.00813153, 0.        , 0.00695627, 0.        ])"
            ]
          },
          "metadata": {
            "tags": []
          },
          "execution_count": 80
        }
      ]
    },
    {
      "metadata": {
        "id": "DsjWY3XAD9i6",
        "colab_type": "code",
        "outputId": "86ed11d6-ab3e-4c61-eedb-411f57585453",
        "colab": {
          "base_uri": "https://localhost:8080/",
          "height": 33
        }
      },
      "cell_type": "code",
      "source": [
        "type(importance)"
      ],
      "execution_count": 81,
      "outputs": [
        {
          "output_type": "execute_result",
          "data": {
            "text/plain": [
              "numpy.ndarray"
            ]
          },
          "metadata": {
            "tags": []
          },
          "execution_count": 81
        }
      ]
    },
    {
      "metadata": {
        "id": "LKp5dyT8EG73",
        "colab_type": "code",
        "outputId": "d8bcdfe8-af90-4cbd-f7a3-811dfea7e3f3",
        "colab": {
          "base_uri": "https://localhost:8080/",
          "height": 33
        }
      },
      "cell_type": "code",
      "source": [
        "#to check the no zero feature importance\n",
        "np.count_nonzero(importance!=0)"
      ],
      "execution_count": 82,
      "outputs": [
        {
          "output_type": "execute_result",
          "data": {
            "text/plain": [
              "113"
            ]
          },
          "metadata": {
            "tags": []
          },
          "execution_count": 82
        }
      ]
    },
    {
      "metadata": {
        "id": "kjc9_58rEwTQ",
        "colab_type": "code",
        "colab": {}
      },
      "cell_type": "code",
      "source": [
        ""
      ],
      "execution_count": 0,
      "outputs": []
    },
    {
      "metadata": {
        "id": "YZlO9HYgH1pF",
        "colab_type": "code",
        "outputId": "7b606eef-9273-4e5c-ffd3-54038f0d2f38",
        "colab": {
          "base_uri": "https://localhost:8080/",
          "height": 488
        }
      },
      "cell_type": "code",
      "source": [
        "from sklearn.model_selection import KFold\n",
        "\n",
        "kf = KFold(n_splits=2)\n",
        "kf.get_n_splits(x)\n",
        "\n",
        "print(kf)  \n",
        "\n",
        "for train_index, test_index in kf.split(x):\n",
        "  print(\"TRAIN:\", train_index, \"TEST:\", test_index)\n"
      ],
      "execution_count": 83,
      "outputs": [
        {
          "output_type": "stream",
          "text": [
            "KFold(n_splits=2, random_state=None, shuffle=False)\n",
            "TRAIN: [125 126 127 128 129 130 131 132 133 134 135 136 137 138 139 140 141 142\n",
            " 143 144 145 146 147 148 149 150 151 152 153 154 155 156 157 158 159 160\n",
            " 161 162 163 164 165 166 167 168 169 170 171 172 173 174 175 176 177 178\n",
            " 179 180 181 182 183 184 185 186 187 188 189 190 191 192 193 194 195 196\n",
            " 197 198 199 200 201 202 203 204 205 206 207 208 209 210 211 212 213 214\n",
            " 215 216 217 218 219 220 221 222 223 224 225 226 227 228 229 230 231 232\n",
            " 233 234 235 236 237 238 239 240 241 242 243 244 245 246 247 248 249] TEST: [  0   1   2   3   4   5   6   7   8   9  10  11  12  13  14  15  16  17\n",
            "  18  19  20  21  22  23  24  25  26  27  28  29  30  31  32  33  34  35\n",
            "  36  37  38  39  40  41  42  43  44  45  46  47  48  49  50  51  52  53\n",
            "  54  55  56  57  58  59  60  61  62  63  64  65  66  67  68  69  70  71\n",
            "  72  73  74  75  76  77  78  79  80  81  82  83  84  85  86  87  88  89\n",
            "  90  91  92  93  94  95  96  97  98  99 100 101 102 103 104 105 106 107\n",
            " 108 109 110 111 112 113 114 115 116 117 118 119 120 121 122 123 124]\n",
            "TRAIN: [  0   1   2   3   4   5   6   7   8   9  10  11  12  13  14  15  16  17\n",
            "  18  19  20  21  22  23  24  25  26  27  28  29  30  31  32  33  34  35\n",
            "  36  37  38  39  40  41  42  43  44  45  46  47  48  49  50  51  52  53\n",
            "  54  55  56  57  58  59  60  61  62  63  64  65  66  67  68  69  70  71\n",
            "  72  73  74  75  76  77  78  79  80  81  82  83  84  85  86  87  88  89\n",
            "  90  91  92  93  94  95  96  97  98  99 100 101 102 103 104 105 106 107\n",
            " 108 109 110 111 112 113 114 115 116 117 118 119 120 121 122 123 124] TEST: [125 126 127 128 129 130 131 132 133 134 135 136 137 138 139 140 141 142\n",
            " 143 144 145 146 147 148 149 150 151 152 153 154 155 156 157 158 159 160\n",
            " 161 162 163 164 165 166 167 168 169 170 171 172 173 174 175 176 177 178\n",
            " 179 180 181 182 183 184 185 186 187 188 189 190 191 192 193 194 195 196\n",
            " 197 198 199 200 201 202 203 204 205 206 207 208 209 210 211 212 213 214\n",
            " 215 216 217 218 219 220 221 222 223 224 225 226 227 228 229 230 231 232\n",
            " 233 234 235 236 237 238 239 240 241 242 243 244 245 246 247 248 249]\n"
          ],
          "name": "stdout"
        }
      ]
    },
    {
      "metadata": {
        "id": "spLGLSBAK4kg",
        "colab_type": "code",
        "colab": {}
      },
      "cell_type": "code",
      "source": [
        "#for train_index, test_index in kf.split(x):\n",
        "#  x_train, x_test = x[train_index], x[test_index]\n",
        "#  y_train, y_test = y[train_index], y[test_index]"
      ],
      "execution_count": 0,
      "outputs": []
    },
    {
      "metadata": {
        "id": "OOriuFu4NWCv",
        "colab_type": "code",
        "outputId": "3a5675a2-1df8-4470-e815-f87f267c0a94",
        "colab": {
          "base_uri": "https://localhost:8080/",
          "height": 70
        }
      },
      "cell_type": "code",
      "source": [
        "from sklearn.model_selection import train_test_split\n",
        "\n",
        "x_train, x_test, y_train, y_test = train_test_split(x, y, train_size = 0.7, random_state = 0)"
      ],
      "execution_count": 85,
      "outputs": [
        {
          "output_type": "stream",
          "text": [
            "/usr/local/lib/python3.6/dist-packages/sklearn/model_selection/_split.py:2179: FutureWarning: From version 0.21, test_size will always complement train_size unless both are specified.\n",
            "  FutureWarning)\n"
          ],
          "name": "stderr"
        }
      ]
    },
    {
      "metadata": {
        "id": "mBAMXzrUcUkA",
        "colab_type": "code",
        "outputId": "547a0e85-a0bf-4d5e-9345-6009bfa11148",
        "colab": {
          "base_uri": "https://localhost:8080/",
          "height": 33
        }
      },
      "cell_type": "code",
      "source": [
        "from sklearn.model_selection import cross_val_score\n",
        "\n",
        "cross_val_score = cross_val_score(estimator = rf, X = x_train, y = y_train, cv = 10)\n",
        "#cross_val_score1 = cross_val_score(estimator = rf, X = x, y = y, cv = 10)\n",
        "print(cross_val_score.mean())\n",
        "#print(cross_val_score1)\n"
      ],
      "execution_count": 93,
      "outputs": [
        {
          "output_type": "stream",
          "text": [
            "0.6740970072239423\n"
          ],
          "name": "stdout"
        }
      ]
    },
    {
      "metadata": {
        "id": "n9cG-xb7NZTl",
        "colab_type": "code",
        "colab": {}
      },
      "cell_type": "code",
      "source": [
        "rf1 = RandomForestClassifier(n_estimators = 100, criterion = 'entropy', max_depth = 10, random_state = 0)"
      ],
      "execution_count": 0,
      "outputs": []
    },
    {
      "metadata": {
        "id": "6VXK-w0GNbZr",
        "colab_type": "code",
        "outputId": "572f531a-f278-491a-d940-420e44acc8ea",
        "colab": {
          "base_uri": "https://localhost:8080/",
          "height": 117
        }
      },
      "cell_type": "code",
      "source": [
        "rf1.fit(x_train, y_train)"
      ],
      "execution_count": 95,
      "outputs": [
        {
          "output_type": "execute_result",
          "data": {
            "text/plain": [
              "RandomForestClassifier(bootstrap=True, class_weight=None, criterion='entropy',\n",
              "            max_depth=10, max_features='auto', max_leaf_nodes=None,\n",
              "            min_impurity_decrease=0.0, min_impurity_split=None,\n",
              "            min_samples_leaf=1, min_samples_split=2,\n",
              "            min_weight_fraction_leaf=0.0, n_estimators=100, n_jobs=None,\n",
              "            oob_score=False, random_state=0, verbose=0, warm_start=False)"
            ]
          },
          "metadata": {
            "tags": []
          },
          "execution_count": 95
        }
      ]
    },
    {
      "metadata": {
        "id": "MNY2ONc0NfI4",
        "colab_type": "code",
        "colab": {}
      },
      "cell_type": "code",
      "source": [
        "y_pred = rf1.predict(x_test)"
      ],
      "execution_count": 0,
      "outputs": []
    },
    {
      "metadata": {
        "id": "WUnRpZIoNoIv",
        "colab_type": "code",
        "outputId": "d226ac8c-4123-492f-abae-bea9f9877a06",
        "colab": {
          "base_uri": "https://localhost:8080/",
          "height": 33
        }
      },
      "cell_type": "code",
      "source": [
        "accuracy_score(y_pred, y_test)"
      ],
      "execution_count": 97,
      "outputs": [
        {
          "output_type": "execute_result",
          "data": {
            "text/plain": [
              "0.6533333333333333"
            ]
          },
          "metadata": {
            "tags": []
          },
          "execution_count": 97
        }
      ]
    },
    {
      "metadata": {
        "id": "g-Bp4ajcOrFv",
        "colab_type": "code",
        "outputId": "3481e023-0872-4786-a711-7a5bd668fa51",
        "colab": {
          "base_uri": "https://localhost:8080/",
          "height": 361
        }
      },
      "cell_type": "code",
      "source": [
        "import matplotlib.pyplot as plt\n",
        "df[df.columns[2:]].std().plot('hist')\n",
        "\n",
        "plt.title('Distribution of stds of all columns');"
      ],
      "execution_count": 98,
      "outputs": [
        {
          "output_type": "display_data",
          "data": {
            "image/png": "[encoded data removed]",
            "text/plain": [
              "<Figure size 576x396 with 1 Axes>"
            ]
          },
          "metadata": {
            "tags": []
          }
        }
      ]
    },
    {
      "metadata": {
        "id": "FfhQGxCmQMAv",
        "colab_type": "code",
        "outputId": "ea8cc291-9a0e-43e9-b101-b239401c1a79",
        "colab": {
          "base_uri": "https://localhost:8080/",
          "height": 364
        }
      },
      "cell_type": "code",
      "source": [
        "df[df.columns[2:]].mean().plot('hist')"
      ],
      "execution_count": 99,
      "outputs": [
        {
          "output_type": "execute_result",
          "data": {
            "text/plain": [
              "<matplotlib.axes._subplots.AxesSubplot at 0x7fbe27028860>"
            ]
          },
          "metadata": {
            "tags": []
          },
          "execution_count": 99
        },
        {
          "output_type": "display_data",
          "data": {
            "image/png": "[encoded data removed]",
            "text/plain": [
              "<Figure size 576x396 with 1 Axes>"
            ]
          },
          "metadata": {
            "tags": []
          }
        }
      ]
    },
    {
      "metadata": {
        "id": "_B4U2rlwRJ8T",
        "colab_type": "code",
        "outputId": "72347daa-9dad-4e7c-9df3-0710f01a1229",
        "colab": {
          "base_uri": "https://localhost:8080/",
          "height": 1405
        }
      },
      "cell_type": "code",
      "source": [
        "print('Distributions of first 28 columns')\n",
        "plt.figure(figsize=(26, 24))\n",
        "for i, col in enumerate(list(df.columns)[2:30]):\n",
        "    plt.subplot(7, 4, i + 1)\n",
        "    plt.hist(df[col])\n",
        "    plt.title(col)"
      ],
      "execution_count": 100,
      "outputs": [
        {
          "output_type": "stream",
          "text": [
            "Distributions of first 28 columns\n"
          ],
          "name": "stdout"
        },
        {
          "output_type": "display_data",
          "data": {
            "image/png": "[encoded data removed]",
            "text/plain": [
              "<Figure size 1872x1728 with 28 Axes>"
            ]
          },
          "metadata": {
            "tags": []
          }
        }
      ]
    },
    {
      "metadata": {
        "id": "-db6lUeyRx6K",
        "colab_type": "code",
        "outputId": "efc2ebb9-77c9-456d-a62b-b1f7c34a7ab8",
        "colab": {
          "base_uri": "https://localhost:8080/",
          "height": 397
        }
      },
      "cell_type": "code",
      "source": [
        "plt.hist(df['target'])"
      ],
      "execution_count": 101,
      "outputs": [
        {
          "output_type": "execute_result",
          "data": {
            "text/plain": [
              "(array([ 90.,   0.,   0.,   0.,   0.,   0.,   0.,   0.,   0., 160.]),\n",
              " array([0. , 0.1, 0.2, 0.3, 0.4, 0.5, 0.6, 0.7, 0.8, 0.9, 1. ]),\n",
              " <a list of 10 Patch objects>)"
            ]
          },
          "metadata": {
            "tags": []
          },
          "execution_count": 101
        },
        {
          "output_type": "display_data",
          "data": {
            "image/png": "[encoded data removed]",
            "text/plain": [
              "<Figure size 576x396 with 1 Axes>"
            ]
          },
          "metadata": {
            "tags": []
          }
        }
      ]
    },
    {
      "metadata": {
        "id": "TJBKe1CJSAD0",
        "colab_type": "code",
        "colab": {}
      },
      "cell_type": "code",
      "source": [
        "'''from sklearn.model_selection import StratifiedKFold, RepeatedStratifiedKFold\n",
        "from sklearn.preprocessing import StandardScaler\n",
        "X_train = df.drop(['id', 'target'], axis=1)\n",
        "y_train = df['target']\n",
        "X_test = test.drop(['id'], axis=1)\n",
        "n_fold = 20\n",
        "folds = StratifiedKFold(n_splits=n_fold, shuffle=True, random_state=42)\n",
        "repeated_folds = RepeatedStratifiedKFold(n_splits=20, n_repeats=20, random_state=42)\n",
        "\n",
        "scaler = StandardScaler()\n",
        "X_train = scaler.fit_transform(X_train)\n",
        "X_test = scaler.transform(X_test)'''"
      ],
      "execution_count": 0,
      "outputs": []
    },
    {
      "metadata": {
        "id": "dIbfR51sSoDa",
        "colab_type": "code",
        "colab": {}
      },
      "cell_type": "code",
      "source": [
        "from sklearn.decomposition import PCA\n",
        "\n",
        "pca = PCA(n_components = 133)\n",
        "\n",
        "x_pac = pca.fit_transform(x_train)\n"
      ],
      "execution_count": 0,
      "outputs": []
    },
    {
      "metadata": {
        "id": "KhI-SPEelYCi",
        "colab_type": "code",
        "outputId": "b1970913-9a7d-4dc8-a769-8a31c1b85e44",
        "colab": {
          "base_uri": "https://localhost:8080/",
          "height": 234
        }
      },
      "cell_type": "code",
      "source": [
        "x_pac"
      ],
      "execution_count": 103,
      "outputs": [
        {
          "output_type": "execute_result",
          "data": {
            "text/plain": [
              "array([[ 3.12303891, -0.06450455,  2.12597495, ...,  0.07872683,\n",
              "         0.23869405, -0.25899527],\n",
              "       [-3.73729178,  3.03750708,  0.85579924, ...,  0.77371615,\n",
              "        -0.98874196,  0.46140903],\n",
              "       [ 1.85166747, -1.53069374,  3.99291135, ..., -0.25834719,\n",
              "         0.52232082,  0.37211536],\n",
              "       ...,\n",
              "       [-0.99845263,  2.53143541,  0.67135277, ...,  0.25969685,\n",
              "         0.58717585,  0.08539624],\n",
              "       [-0.32526634, -2.20211842, -1.35643356, ..., -1.27575304,\n",
              "         1.25385297, -1.22205616],\n",
              "       [ 1.33880401, -1.06663667,  1.26627749, ...,  0.72096638,\n",
              "         0.1490648 , -0.21192891]])"
            ]
          },
          "metadata": {
            "tags": []
          },
          "execution_count": 103
        }
      ]
    },
    {
      "metadata": {
        "id": "IBKOTjH4lZwC",
        "colab_type": "code",
        "outputId": "848c2c7c-0520-4418-d280-fbca1a63f7fd",
        "colab": {
          "base_uri": "https://localhost:8080/",
          "height": 468
        }
      },
      "cell_type": "code",
      "source": [
        "x_pac[1]"
      ],
      "execution_count": 104,
      "outputs": [
        {
          "output_type": "execute_result",
          "data": {
            "text/plain": [
              "array([-3.73729178,  3.03750708,  0.85579924,  0.23059398, -1.45753417,\n",
              "        1.71117959,  0.52596991,  2.06019602,  0.2939614 , -1.46121129,\n",
              "       -0.42879962,  0.97981546,  2.09211523,  2.23064147, -3.08243878,\n",
              "       -1.34564446,  1.16287326,  1.45128918,  0.01361428, -1.47493696,\n",
              "       -4.48335816,  0.9211441 , -1.22100184,  0.19515982, -0.61048714,\n",
              "       -0.45598508,  1.2450456 ,  1.46650882,  0.29428894, -2.68553662,\n",
              "        1.45107311, -0.01170055,  1.90732478,  4.0990543 , -1.05388917,\n",
              "        1.94552346,  0.78967775, -0.4931576 ,  2.30997185, -2.41017788,\n",
              "       -0.78974749,  0.86814632,  2.83701111, -1.33998124, -1.12384503,\n",
              "        1.31875354,  2.0599992 ,  0.80680412, -1.2665376 ,  0.21020586,\n",
              "       -3.52108512, -0.19008338,  1.55149967, -0.29646672, -1.74883622,\n",
              "        1.56056206, -0.46452344, -0.3986619 , -1.30851057,  2.48600438,\n",
              "        0.07792881, -1.1151319 ,  1.97342679,  0.53798962,  0.47257448,\n",
              "       -0.12551119,  4.15518391, -0.5041755 ,  3.14906327, -1.259677  ,\n",
              "        0.5799177 , -1.05173403,  0.34734388, -1.15265842, -0.61499789,\n",
              "       -0.72698435, -0.96552211, -2.85926753,  0.31695335, -1.74644501,\n",
              "       -0.14273229,  1.06917758, -0.14808633, -0.48112077,  0.64883704,\n",
              "        0.40302652,  1.054174  ,  0.61885433,  1.09572708, -0.40317511,\n",
              "       -3.13243649,  0.23157026,  1.16161807, -0.30890526,  0.56139538,\n",
              "       -0.85107439,  1.5215381 ,  1.44936975, -1.78300826, -0.21803738,\n",
              "        1.23246354,  0.37034938,  0.7099845 , -0.17158197, -0.5855457 ,\n",
              "       -2.4110578 , -0.22802177, -0.72972815,  0.30373001, -0.52084942,\n",
              "        0.26729209,  0.8271698 ,  0.22714035,  1.47517046, -1.90122667,\n",
              "        0.62166591,  0.17437591,  0.84680018, -0.725624  , -0.11010369,\n",
              "        0.42758145,  0.98230434,  0.82755904,  0.30910709, -0.31208958,\n",
              "       -0.12332699,  1.02948703,  0.22619246, -0.11753285, -0.49878463,\n",
              "        0.77371615, -0.98874196,  0.46140903])"
            ]
          },
          "metadata": {
            "tags": []
          },
          "execution_count": 104
        }
      ]
    },
    {
      "metadata": {
        "id": "YwXDV-Orl5v0",
        "colab_type": "code",
        "outputId": "0e6c4bdf-b367-45ea-ae24-cd61b6460233",
        "colab": {
          "base_uri": "https://localhost:8080/",
          "height": 33
        }
      },
      "cell_type": "code",
      "source": [
        "x_pac.shape"
      ],
      "execution_count": 105,
      "outputs": [
        {
          "output_type": "execute_result",
          "data": {
            "text/plain": [
              "(175, 133)"
            ]
          },
          "metadata": {
            "tags": []
          },
          "execution_count": 105
        }
      ]
    },
    {
      "metadata": {
        "id": "GRXDWXnVmGrp",
        "colab_type": "code",
        "outputId": "53dcacfa-8f35-4d54-941d-99f68dacf31e",
        "colab": {
          "base_uri": "https://localhost:8080/",
          "height": 347
        }
      },
      "cell_type": "code",
      "source": [
        "plt.plot(x_pac)\n",
        "plt.show()"
      ],
      "execution_count": 127,
      "outputs": [
        {
          "output_type": "display_data",
          "data": {
            "image/png": "[encoded data removed]",
            "text/plain": [
              "<Figure size 576x396 with 1 Axes>"
            ]
          },
          "metadata": {
            "tags": []
          }
        }
      ]
    },
    {
      "metadata": {
        "id": "7iGvhp3zmXPG",
        "colab_type": "code",
        "colab": {}
      },
      "cell_type": "code",
      "source": [
        ""
      ],
      "execution_count": 0,
      "outputs": []
    },
    {
      "metadata": {
        "id": "VKh7_JpOmxHR",
        "colab_type": "code",
        "outputId": "3f23809a-2ba3-42db-ebe8-042c969cf224",
        "colab": {
          "base_uri": "https://localhost:8080/",
          "height": 201
        }
      },
      "cell_type": "code",
      "source": [
        "y_train"
      ],
      "execution_count": 107,
      "outputs": [
        {
          "output_type": "execute_result",
          "data": {
            "text/plain": [
              "array([1., 0., 1., 1., 1., 0., 0., 0., 1., 1., 1., 1., 1., 0., 1., 0., 1.,\n",
              "       1., 1., 1., 0., 1., 1., 1., 1., 0., 0., 1., 1., 1., 1., 0., 0., 1.,\n",
              "       0., 0., 0., 0., 0., 1., 0., 1., 1., 1., 1., 1., 1., 0., 0., 1., 1.,\n",
              "       0., 0., 1., 1., 0., 1., 0., 1., 1., 1., 1., 0., 1., 0., 1., 1., 0.,\n",
              "       1., 1., 1., 1., 1., 0., 0., 1., 0., 0., 1., 1., 0., 0., 1., 1., 0.,\n",
              "       1., 1., 1., 1., 1., 0., 0., 0., 0., 1., 0., 1., 1., 1., 0., 1., 1.,\n",
              "       0., 1., 0., 0., 1., 1., 1., 1., 1., 0., 0., 1., 1., 0., 1., 0., 1.,\n",
              "       1., 0., 0., 1., 1., 1., 0., 0., 1., 1., 1., 1., 1., 1., 0., 1., 1.,\n",
              "       0., 1., 0., 0., 1., 1., 1., 1., 1., 0., 1., 1., 1., 1., 1., 0., 1.,\n",
              "       1., 1., 1., 1., 0., 0., 1., 1., 1., 0., 1., 1., 1., 0., 1., 1., 1.,\n",
              "       1., 1., 0., 1., 0.])"
            ]
          },
          "metadata": {
            "tags": []
          },
          "execution_count": 107
        }
      ]
    },
    {
      "metadata": {
        "id": "g8asi6Aem1tj",
        "colab_type": "code",
        "colab": {}
      },
      "cell_type": "code",
      "source": [
        ""
      ],
      "execution_count": 0,
      "outputs": []
    },
    {
      "metadata": {
        "id": "TBuhF9P_oCyl",
        "colab_type": "code",
        "colab": {}
      },
      "cell_type": "code",
      "source": [
        "pca = PCA(n_components = 133)\n",
        "x = pca.fit_transform(x)"
      ],
      "execution_count": 0,
      "outputs": []
    },
    {
      "metadata": {
        "id": "Tgtm4vywodpp",
        "colab_type": "code",
        "outputId": "0b43889e-1907-489f-a728-d7bab3511554",
        "colab": {
          "base_uri": "https://localhost:8080/",
          "height": 70
        }
      },
      "cell_type": "code",
      "source": [
        "x_train, x_test, y_train, y_test = train_test_split(x, y, train_size = 0.7, random_state = 0)"
      ],
      "execution_count": 109,
      "outputs": [
        {
          "output_type": "stream",
          "text": [
            "/usr/local/lib/python3.6/dist-packages/sklearn/model_selection/_split.py:2179: FutureWarning: From version 0.21, test_size will always complement train_size unless both are specified.\n",
            "  FutureWarning)\n"
          ],
          "name": "stderr"
        }
      ]
    },
    {
      "metadata": {
        "id": "ym1IiVHuooFx",
        "colab_type": "code",
        "outputId": "d2af4df5-ad08-4997-c216-b491c8909718",
        "colab": {
          "base_uri": "https://localhost:8080/",
          "height": 187
        }
      },
      "cell_type": "code",
      "source": [
        "rf2 = RandomForestClassifier()\n",
        "rf2.fit(x_train, y_train)"
      ],
      "execution_count": 110,
      "outputs": [
        {
          "output_type": "stream",
          "text": [
            "/usr/local/lib/python3.6/dist-packages/sklearn/ensemble/forest.py:246: FutureWarning: The default value of n_estimators will change from 10 in version 0.20 to 100 in 0.22.\n",
            "  \"10 in version 0.20 to 100 in 0.22.\", FutureWarning)\n"
          ],
          "name": "stderr"
        },
        {
          "output_type": "execute_result",
          "data": {
            "text/plain": [
              "RandomForestClassifier(bootstrap=True, class_weight=None, criterion='gini',\n",
              "            max_depth=None, max_features='auto', max_leaf_nodes=None,\n",
              "            min_impurity_decrease=0.0, min_impurity_split=None,\n",
              "            min_samples_leaf=1, min_samples_split=2,\n",
              "            min_weight_fraction_leaf=0.0, n_estimators=10, n_jobs=None,\n",
              "            oob_score=False, random_state=None, verbose=0,\n",
              "            warm_start=False)"
            ]
          },
          "metadata": {
            "tags": []
          },
          "execution_count": 110
        }
      ]
    },
    {
      "metadata": {
        "id": "eaOhT61yDVeF",
        "colab_type": "code",
        "colab": {}
      },
      "cell_type": "code",
      "source": [
        "'''rf2 = RandomForestClassifier()\n",
        "rf2.fit(x, y)\n",
        "y_pred_rf2 = rf2.predict(x_test)\n",
        "from sklearn.metrics import f1_score\n",
        "e1 = f1_score(y_pred_rf2, y_test)'''"
      ],
      "execution_count": 0,
      "outputs": []
    },
    {
      "metadata": {
        "id": "4SoXrx64FrQQ",
        "colab_type": "code",
        "colab": {}
      },
      "cell_type": "code",
      "source": [
        ""
      ],
      "execution_count": 0,
      "outputs": []
    },
    {
      "metadata": {
        "id": "03J9SUbyotPw",
        "colab_type": "code",
        "colab": {}
      },
      "cell_type": "code",
      "source": [
        "y_pred_rf2 = rf2.predict(x_test)"
      ],
      "execution_count": 0,
      "outputs": []
    },
    {
      "metadata": {
        "id": "q6o5j0CkFsF1",
        "colab_type": "code",
        "colab": {
          "base_uri": "https://localhost:8080/",
          "height": 397
        },
        "outputId": "e9714479-835c-4422-94fc-ba5799b70934"
      },
      "cell_type": "code",
      "source": [
        "plt.hist(y_pred_rf2)"
      ],
      "execution_count": 128,
      "outputs": [
        {
          "output_type": "execute_result",
          "data": {
            "text/plain": [
              "(array([22.,  0.,  0.,  0.,  0.,  0.,  0.,  0.,  0., 53.]),\n",
              " array([0. , 0.1, 0.2, 0.3, 0.4, 0.5, 0.6, 0.7, 0.8, 0.9, 1. ]),\n",
              " <a list of 10 Patch objects>)"
            ]
          },
          "metadata": {
            "tags": []
          },
          "execution_count": 128
        },
        {
          "output_type": "display_data",
          "data": {
            "image/png": "[encoded data removed]",
            "text/plain": [
              "<Figure size 576x396 with 1 Axes>"
            ]
          },
          "metadata": {
            "tags": []
          }
        }
      ]
    },
    {
      "metadata": {
        "id": "hBEMe4qcoweE",
        "colab_type": "code",
        "colab": {}
      },
      "cell_type": "code",
      "source": [
        "\n",
        "e = f1_score(y_pred_rf2, y_test)"
      ],
      "execution_count": 0,
      "outputs": []
    },
    {
      "metadata": {
        "id": "jZHOiQfqo2Ve",
        "colab_type": "code",
        "outputId": "1ef8a76b-adf9-4b69-9dc0-8924c52b113c",
        "colab": {
          "base_uri": "https://localhost:8080/",
          "height": 33
        }
      },
      "cell_type": "code",
      "source": [
        "e"
      ],
      "execution_count": 113,
      "outputs": [
        {
          "output_type": "execute_result",
          "data": {
            "text/plain": [
              "0.74"
            ]
          },
          "metadata": {
            "tags": []
          },
          "execution_count": 113
        }
      ]
    },
    {
      "metadata": {
        "id": "MXNRKzcKo3JV",
        "colab_type": "code",
        "outputId": "2751e8ab-876c-4f61-ce8c-c6adec78d88c",
        "colab": {
          "base_uri": "https://localhost:8080/",
          "height": 53
        }
      },
      "cell_type": "code",
      "source": [
        "'''from sklearn.model_selection import KFold\n",
        "import xgboost as xgb\n",
        "kfold = KFold(n_splits=5, shuffle=True, random_state=42)\n",
        "kf = KFold(n_splits=10)\n",
        "kf.get_n_splits(x)\n",
        "\n",
        "scores = []\n",
        "\n",
        "for train_index, test_index in kfold.split(x):   \n",
        "    X_train, X_test = x[train_index], x[test_index]\n",
        "    y_train, y_test = y[train_index], y[test_index]\n",
        "\n",
        "    xgb_model = xgb.XGBRegressor(objective=\"multi:softprob\")\n",
        "    xgb_model.fit(X_train, y_train)\n",
        "    \n",
        "    y_pred = xgb_model.predict(X_test)\n",
        "    \n",
        "    scores.append(mean_squared_error(y_test, y_pred))\n",
        "    \n",
        "display_scores(np.sqrt(scores))'''"
      ],
      "execution_count": 0,
      "outputs": [
        {
          "output_type": "execute_result",
          "data": {
            "text/plain": [
              "'from sklearn.model_selection import KFold\\nimport xgboost as xgb\\nkfold = KFold(n_splits=5, shuffle=True, random_state=42)\\nkf = KFold(n_splits=10)\\nkf.get_n_splits(x)\\n\\nscores = []\\n\\nfor train_index, test_index in kfold.split(x):   \\n    X_train, X_test = x[train_index], x[test_index]\\n    y_train, y_test = y[train_index], y[test_index]\\n\\n    xgb_model = xgb.XGBRegressor(objective=\"multi:softprob\")\\n    xgb_model.fit(X_train, y_train)\\n    \\n    y_pred = xgb_model.predict(X_test)\\n    \\n    scores.append(mean_squared_error(y_test, y_pred))\\n    \\ndisplay_scores(np.sqrt(scores))'"
            ]
          },
          "metadata": {
            "tags": []
          },
          "execution_count": 15
        }
      ]
    },
    {
      "metadata": {
        "id": "OCLBH94W_0S_",
        "colab_type": "code",
        "outputId": "799a54dc-c7a3-4cf7-fff9-8fb70e2c41c0",
        "colab": {
          "base_uri": "https://localhost:8080/",
          "height": 104
        }
      },
      "cell_type": "code",
      "source": [
        "from sklearn.svm import SVC\n",
        "svc = SVC()\n",
        "from sklearn.model_selection import GridSearchCV\n",
        "parameter = [0.0001, 0.001, 0.01, 0.1, 1, 10, 100, 1000, 10000]\n",
        "\n",
        "\n",
        "param_grid2 = {'C':[0.0001, 0.001, 0.01, 0.1, 1, 10, 100, 1000, 10000],\n",
        "              'gamma':[0.0001, 0.001, 0.01, 0.1, 1, 10, 100, 1000, 10000],\n",
        "             'kernel':['linear', 'rbf', 'poly', 'sigmoid']}\n",
        "gs1 = GridSearchCV(estimator = svc, param_grid = param_grid2, scoring = 'accuracy', cv = 30)\n",
        "\n",
        "gs1.fit(x_train, y_train)\n",
        "\n",
        "print(gs1.best_score_)\n",
        "print(gs1.best_params_)"
      ],
      "execution_count": 121,
      "outputs": [
        {
          "output_type": "stream",
          "text": [
            "0.7314285714285714\n",
            "{'C': 0.01, 'gamma': 0.0001, 'kernel': 'linear'}\n"
          ],
          "name": "stdout"
        },
        {
          "output_type": "stream",
          "text": [
            "/usr/local/lib/python3.6/dist-packages/sklearn/model_selection/_search.py:841: DeprecationWarning: The default of the `iid` parameter will change from True to False in version 0.22 and will be removed in 0.24. This will change numeric results when test-set sizes are unequal.\n",
            "  DeprecationWarning)\n"
          ],
          "name": "stderr"
        }
      ]
    },
    {
      "metadata": {
        "id": "voUveORCSIfb",
        "colab_type": "code",
        "outputId": "591b3cac-5cad-4b52-9e65-d581212abd04",
        "colab": {
          "base_uri": "https://localhost:8080/",
          "height": 104
        }
      },
      "cell_type": "code",
      "source": [
        "import xgboost as xgb\n",
        "param_grid3 = {\n",
        "              'learning_rate':[0.01, 0.001, 0.03, 0.1, 0.003, 0.5],\n",
        "              \n",
        "              }\n",
        "xgb = xgb.XGBClassifier(objective = \"binary:logistic\", random_state = 42, booster = 'gblinear')\n",
        "gsxgb = GridSearchCV(estimator = xgb, param_grid = param_grid3, scoring = 'accuracy', cv = 30)\n",
        "gsxgb.fit(x, y)\n",
        "\n",
        "print(gsxgb.best_score_)\n",
        "print(gsxgb.best_params_)"
      ],
      "execution_count": 123,
      "outputs": [
        {
          "output_type": "stream",
          "text": [
            "0.732\n",
            "{'learning_rate': 0.1}\n"
          ],
          "name": "stdout"
        },
        {
          "output_type": "stream",
          "text": [
            "/usr/local/lib/python3.6/dist-packages/sklearn/model_selection/_search.py:841: DeprecationWarning: The default of the `iid` parameter will change from True to False in version 0.22 and will be removed in 0.24. This will change numeric results when test-set sizes are unequal.\n",
            "  DeprecationWarning)\n"
          ],
          "name": "stderr"
        }
      ]
    },
    {
      "metadata": {
        "id": "E_P9GnW3A_tj",
        "colab_type": "code",
        "colab": {
          "base_uri": "https://localhost:8080/",
          "height": 104
        },
        "outputId": "46c98baa-c05e-4a2e-f989-43cd1ce64bb1"
      },
      "cell_type": "code",
      "source": [
        "import xgboost as xgb\n",
        "param_grid3 = {\n",
        "              'learning_rate':[0.01, 0.001, 0.03, 0.1, 0.003, 0.5],\n",
        "              \n",
        "              }\n",
        "xgb = xgb.XGBClassifier(objective = \"binary:logistic\", random_state = 42, booster = 'gblinear')\n",
        "gsxgb = GridSearchCV(estimator = xgb, param_grid = param_grid3, scoring = 'accuracy', cv = 20)\n",
        "gsxgb.fit(x_train, y_train)\n",
        "\n",
        "print(gsxgb.best_score_)\n",
        "print(gsxgb.best_params_)"
      ],
      "execution_count": 125,
      "outputs": [
        {
          "output_type": "stream",
          "text": [
            "0.7371428571428571\n",
            "{'learning_rate': 0.5}\n"
          ],
          "name": "stdout"
        },
        {
          "output_type": "stream",
          "text": [
            "/usr/local/lib/python3.6/dist-packages/sklearn/model_selection/_search.py:841: DeprecationWarning: The default of the `iid` parameter will change from True to False in version 0.22 and will be removed in 0.24. This will change numeric results when test-set sizes are unequal.\n",
            "  DeprecationWarning)\n"
          ],
          "name": "stderr"
        }
      ]
    },
    {
      "metadata": {
        "id": "Ln2SGw8LKZbI",
        "colab_type": "code",
        "colab": {}
      },
      "cell_type": "code",
      "source": [
        "df1 = pd.read_csv('train.csv')\n",
        "\n",
        "x1 = df.iloc[:, 2:]\n",
        "\n",
        "y1 = df.iloc[:, 1]"
      ],
      "execution_count": 0,
      "outputs": []
    },
    {
      "metadata": {
        "id": "ljRulYL3DC0g",
        "colab_type": "code",
        "colab": {
          "base_uri": "https://localhost:8080/",
          "height": 117
        },
        "outputId": "e054f060-f48b-4729-8120-5fe9bcb1b876"
      },
      "cell_type": "code",
      "source": [
        "import xgboost as xgb\n",
        "xgb1 = xgb.XGBClassifier(objective = 'binary:logistic', random_state = 42, booster = 'gblinear', learning_rate = 0.5)\n",
        "\n",
        "xgb1.fit(x1, y1)"
      ],
      "execution_count": 142,
      "outputs": [
        {
          "output_type": "execute_result",
          "data": {
            "text/plain": [
              "XGBClassifier(base_score=0.5, booster='gblinear', colsample_bylevel=1,\n",
              "       colsample_bytree=1, gamma=0, learning_rate=0.5, max_delta_step=0,\n",
              "       max_depth=3, min_child_weight=1, missing=None, n_estimators=100,\n",
              "       n_jobs=1, nthread=None, objective='binary:logistic',\n",
              "       random_state=42, reg_alpha=0, reg_lambda=1, scale_pos_weight=1,\n",
              "       seed=None, silent=True, subsample=1)"
            ]
          },
          "metadata": {
            "tags": []
          },
          "execution_count": 142
        }
      ]
    },
    {
      "metadata": {
        "id": "_dG1SvQFI-_r",
        "colab_type": "code",
        "colab": {
          "base_uri": "https://localhost:8080/",
          "height": 33
        },
        "outputId": "b58d0e1a-96fe-4d99-8a46-c8523d21d6f2"
      },
      "cell_type": "code",
      "source": [
        "x1.shape"
      ],
      "execution_count": 143,
      "outputs": [
        {
          "output_type": "execute_result",
          "data": {
            "text/plain": [
              "(250, 300)"
            ]
          },
          "metadata": {
            "tags": []
          },
          "execution_count": 143
        }
      ]
    },
    {
      "metadata": {
        "id": "cEK73X8UIlOm",
        "colab_type": "code",
        "colab": {}
      },
      "cell_type": "code",
      "source": [
        "x_test1.shape\n",
        "y_pred_xgb = xgb1.predict(x_test1)"
      ],
      "execution_count": 0,
      "outputs": []
    },
    {
      "metadata": {
        "id": "LRHN9P0aLwPv",
        "colab_type": "code",
        "colab": {}
      },
      "cell_type": "code",
      "source": [
        "svc = SVC(C = 0.01, gamma = 0.0001, kernel = 'sigmoid')\n",
        "svc.fit(x1, y1)\n",
        "\n",
        "y_pred_svc = svc.predict(x_test1)\n",
        "\n",
        "sample_sub['target'] = y_pred_svc\n",
        "listdf = list(sample_sub)\n",
        "sample_sub.to_csv('sumple_submission1.csv')"
      ],
      "execution_count": 0,
      "outputs": []
    },
    {
      "metadata": {
        "id": "gRVQZpgNLFIY",
        "colab_type": "code",
        "colab": {}
      },
      "cell_type": "code",
      "source": [
        "sample_sub['target'] = y_pred_xgb"
      ],
      "execution_count": 0,
      "outputs": []
    },
    {
      "metadata": {
        "id": "ODvOowAnK0d3",
        "colab_type": "code",
        "colab": {}
      },
      "cell_type": "code",
      "source": [
        "listdf = list(sample_sub)"
      ],
      "execution_count": 0,
      "outputs": []
    },
    {
      "metadata": {
        "id": "2nUTRpTJI3jh",
        "colab_type": "code",
        "colab": {}
      },
      "cell_type": "code",
      "source": [
        "import csv\n",
        "\n",
        "sample_sub.to_csv('sumple_submission.csv')"
      ],
      "execution_count": 0,
      "outputs": []
    },
    {
      "metadata": {
        "id": "F01nB_IzLLyW",
        "colab_type": "code",
        "colab": {}
      },
      "cell_type": "code",
      "source": [
        ""
      ],
      "execution_count": 0,
      "outputs": []
    }
  ]
}